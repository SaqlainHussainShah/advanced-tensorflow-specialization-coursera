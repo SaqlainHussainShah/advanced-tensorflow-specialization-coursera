{
 "cells": [
  {
   "cell_type": "markdown",
   "metadata": {
    "colab_type": "text",
    "id": "ZL_6GK8qX35J"
   },
   "source": [
    "\n",
    "\n",
    "# Week 1: Multiple Output Models using the Keras Functional API\n",
    "\n",
    "Welcome to the first programming assignment of the course! Your task will be to use the Keras functional API to train a model to predict two outputs. For this lab, you will use the **[Wine Quality Dataset](https://archive.ics.uci.edu/ml/datasets/Wine+Quality)** from the **UCI machine learning repository**. It has separate datasets for red wine and white wine.\n",
    "\n",
    "Normally, the wines are classified into one of the quality ratings specified in the attributes. In this exercise, you will combine the two datasets to predict the wine quality and whether the wine is red or white solely from the attributes. \n",
    "\n",
    "You will model wine quality estimations as a regression problem and wine type detection as a binary classification problem.\n",
    "\n",
    "#### Please complete sections that are marked **(TODO)**"
   ]
  },
  {
   "cell_type": "markdown",
   "metadata": {
    "colab_type": "text",
    "id": "obdcD6urYBY9"
   },
   "source": [
    "## Imports"
   ]
  },
  {
   "cell_type": "code",
   "execution_count": 1,
   "metadata": {
    "colab": {},
    "colab_type": "code",
    "id": "t8N3pcTQ5oQI"
   },
   "outputs": [],
   "source": [
    "import tensorflow as tf\n",
    "from tensorflow.keras.models import Model\n",
    "from tensorflow.keras.layers import Dense, Input\n",
    "\n",
    "import numpy as np\n",
    "import matplotlib.pyplot as plt\n",
    "import pandas as pd\n",
    "from sklearn.model_selection import train_test_split\n",
    "from sklearn.metrics import confusion_matrix\n",
    "import itertools\n",
    "\n",
    "import utils"
   ]
  },
  {
   "cell_type": "markdown",
   "metadata": {
    "colab_type": "text",
    "id": "gQMERzWQYpgm"
   },
   "source": [
    "## Load Dataset\n",
    "\n",
    "\n",
    "You will now load the dataset from the [UCI Machine Learning Repository](https://archive.ics.uci.edu/ml/index.php) which are already saved in your workspace.\n",
    "\n",
    "### Pre-process the white wine dataset (TODO)\n",
    "You will add a new column named `is_red` in your dataframe to indicate if the wine is white or red. \n",
    "- In the white wine dataset, you will fill the column `is_red` with  zeros (0)."
   ]
  },
  {
   "cell_type": "code",
   "execution_count": 2,
   "metadata": {
    "colab": {},
    "colab_type": "code",
    "deletable": false,
    "id": "2qYAjKXCd4RH",
    "nbgrader": {
     "cell_type": "code",
     "checksum": "325ea195519b7035934c95bb529a062c",
     "grade": false,
     "grade_id": "cell-e5bfa0f152d9a21f",
     "locked": false,
     "schema_version": 3,
     "solution": true,
     "task": false
    }
   },
   "outputs": [],
   "source": [
    "## Please uncomment all lines in this cell and replace those marked with `# YOUR CODE HERE`.\n",
    "## You can select all lines in this code cell with Ctrl+A (Windows/Linux) or Cmd+A (Mac), then press Ctrl+/ (Windows/Linux) or Cmd+/ (Mac) to uncomment.\n",
    "\n",
    "\n",
    "\n",
    "# # URL of the white wine dataset\n",
    "URI = './winequality-white.csv'\n",
    "\n",
    "# # load the dataset from the URL\n",
    "white_df = pd.read_csv(URI, sep=\";\")\n",
    "\n",
    "# # fill the `is_red` column with zeros.\n",
    "white_df[\"is_red\"] = 0# YOUR CODE HERE\n",
    "\n",
    "# # keep only the first of duplicate items\n",
    "white_df = white_df.drop_duplicates(keep='first')\n"
   ]
  },
  {
   "cell_type": "code",
   "execution_count": 4,
   "metadata": {
    "deletable": false,
    "editable": false,
    "nbgrader": {
     "cell_type": "code",
     "checksum": "defe38d6ec58fd31cd67b89e46c4373f",
     "grade": true,
     "grade_id": "cell-30575e713b55fc51",
     "locked": true,
     "points": 1,
     "schema_version": 3,
     "solution": false,
     "task": false
    }
   },
   "outputs": [
    {
     "name": "stdout",
     "output_type": "stream",
     "text": [
      "\u001b[92m All public tests passed\n"
     ]
    }
   ],
   "source": [
    "# You can click `File -> Open` in the menu above and open the `utils.py` file \n",
    "# in case you want to inspect the unit tests being used for each graded function.\n",
    "\n",
    "utils.test_white_df(white_df)\n"
   ]
  },
  {
   "cell_type": "code",
   "execution_count": 5,
   "metadata": {
    "colab": {},
    "colab_type": "code",
    "id": "OQHK0ohBQRCk"
   },
   "outputs": [
    {
     "name": "stdout",
     "output_type": "stream",
     "text": [
      "8.8\n",
      "9.1\n"
     ]
    }
   ],
   "source": [
    "print(white_df.alcohol[0])\n",
    "print(white_df.alcohol[100])\n",
    "\n",
    "# EXPECTED OUTPUT\n",
    "# 8.8\n",
    "# 9.1"
   ]
  },
  {
   "cell_type": "markdown",
   "metadata": {},
   "source": [
    "### Pre-process the red wine dataset (TODO)\n",
    "- In the red wine dataset, you will fill in the column `is_red` with ones (1)."
   ]
  },
  {
   "cell_type": "code",
   "execution_count": 7,
   "metadata": {
    "colab": {},
    "colab_type": "code",
    "deletable": false,
    "id": "8y3QxKwBed8v",
    "nbgrader": {
     "cell_type": "code",
     "checksum": "12e0963d15be33b01b4e6ebc8945e51e",
     "grade": false,
     "grade_id": "cell-e47a40f306593274",
     "locked": false,
     "schema_version": 3,
     "solution": true,
     "task": false
    }
   },
   "outputs": [],
   "source": [
    "## Please uncomment all lines in this cell and replace those marked with `# YOUR CODE HERE`.\n",
    "## You can select all lines in this code cell with Ctrl+A (Windows/Linux) or Cmd+A (Mac), then press Ctrl+/ (Windows/Linux) or Cmd+/ (Mac) to uncomment.\n",
    "\n",
    "\n",
    "\n",
    "# # URL of the red wine dataset\n",
    "URI = './winequality-red.csv'\n",
    "\n",
    "# # load the dataset from the URL\n",
    "red_df = pd.read_csv(URI, sep=\";\")\n",
    "\n",
    "# # fill the `is_red` column with ones.\n",
    "red_df[\"is_red\"] = 1# YOUR CODE HERE\n",
    "\n",
    "# # keep only the first of duplicate items\n",
    "red_df = red_df.drop_duplicates(keep='first')\n"
   ]
  },
  {
   "cell_type": "code",
   "execution_count": 8,
   "metadata": {
    "deletable": false,
    "editable": false,
    "nbgrader": {
     "cell_type": "code",
     "checksum": "d8e0c91b0fd668b63ba74a8f2f958b59",
     "grade": true,
     "grade_id": "cell-2a75937adcc0c25b",
     "locked": true,
     "points": 1,
     "schema_version": 3,
     "solution": false,
     "task": false
    }
   },
   "outputs": [
    {
     "name": "stdout",
     "output_type": "stream",
     "text": [
      "\u001b[92m All public tests passed\n"
     ]
    }
   ],
   "source": [
    "utils.test_red_df(red_df)\n"
   ]
  },
  {
   "cell_type": "code",
   "execution_count": 9,
   "metadata": {
    "colab": {},
    "colab_type": "code",
    "id": "zsB3LUzNQpo_"
   },
   "outputs": [
    {
     "name": "stdout",
     "output_type": "stream",
     "text": [
      "9.4\n",
      "10.2\n"
     ]
    }
   ],
   "source": [
    "print(red_df.alcohol[0])\n",
    "print(red_df.alcohol[100])\n",
    "\n",
    "# EXPECTED OUTPUT\n",
    "# 9.4\n",
    "# 10.2"
   ]
  },
  {
   "cell_type": "markdown",
   "metadata": {
    "colab_type": "text",
    "id": "2G8B-NYuM6-f"
   },
   "source": [
    "### Concatenate the datasets\n",
    "\n",
    "Next, concatenate the red and white wine dataframes."
   ]
  },
  {
   "cell_type": "code",
   "execution_count": 10,
   "metadata": {
    "colab": {},
    "colab_type": "code",
    "id": "YpQrOjJbfN3m"
   },
   "outputs": [],
   "source": [
    "df = pd.concat([red_df, white_df], ignore_index=True)"
   ]
  },
  {
   "cell_type": "code",
   "execution_count": 11,
   "metadata": {
    "colab": {},
    "colab_type": "code",
    "id": "Se2dTmThQyjb"
   },
   "outputs": [
    {
     "name": "stdout",
     "output_type": "stream",
     "text": [
      "9.4\n",
      "9.5\n"
     ]
    }
   ],
   "source": [
    "print(df.alcohol[0])\n",
    "print(df.alcohol[100])\n",
    "\n",
    "# EXPECTED OUTPUT\n",
    "# 9.4\n",
    "# 9.5"
   ]
  },
  {
   "cell_type": "markdown",
   "metadata": {},
   "source": [
    "In a real-world scenario, you should shuffle the data. For this assignment however, **you are not** going to do that because the grader needs to test with deterministic data. If you want the code to do it **after** you've gotten your grade for this notebook, we left the commented line below for reference"
   ]
  },
  {
   "cell_type": "code",
   "execution_count": null,
   "metadata": {
    "colab": {},
    "colab_type": "code",
    "id": "wx6y3rPpQv4k"
   },
   "outputs": [],
   "source": [
    "#df = df.iloc[np.random.permutation(len(df))]"
   ]
  },
  {
   "cell_type": "markdown",
   "metadata": {
    "colab_type": "text",
    "id": "-EqIcbg5M_n1"
   },
   "source": [
    "This will chart the quality of the wines."
   ]
  },
  {
   "cell_type": "code",
   "execution_count": 15,
   "metadata": {
    "colab": {},
    "colab_type": "code",
    "id": "IsvK0-Sgy17C"
   },
   "outputs": [
    {
     "data": {
      "image/png": "[encoded data removed]",
      "text/plain": [
       "<Figure size 432x288 with 1 Axes>"
      ]
     },
     "metadata": {
      "needs_background": "light"
     },
     "output_type": "display_data"
    }
   ],
   "source": [
    "df['quality'].hist(bins=20);"
   ]
  },
  {
   "cell_type": "markdown",
   "metadata": {
    "colab_type": "text",
    "id": "Nut1rmYLzf-p"
   },
   "source": [
    "### Imbalanced data (TODO)\n",
    "You can see from the plot above that the wine quality dataset is imbalanced. \n",
    "- Since there are very few observations with quality equal to 3, 4, 8 and 9, you can drop these observations from your dataset. \n",
    "- You can do this by removing data belonging to all classes except those > 4 and < 8."
   ]
  },
  {
   "cell_type": "code",
   "execution_count": 16,
   "metadata": {
    "colab": {},
    "colab_type": "code",
    "deletable": false,
    "id": "doH9_-gnf3sz",
    "nbgrader": {
     "cell_type": "code",
     "checksum": "d9ba9fc3a3ca02ccc567be33652b80fe",
     "grade": false,
     "grade_id": "cell-6a3e9db696f6827b",
     "locked": false,
     "schema_version": 3,
     "solution": true,
     "task": false
    }
   },
   "outputs": [],
   "source": [
    "## Please uncomment all lines in this cell and replace those marked with `# YOUR CODE HERE`.\n",
    "## You can select all lines in this code cell with Ctrl+A (Windows/Linux) or Cmd+A (Mac), then press Ctrl+/ (Windows/Linux) or Cmd+/ (Mac) to uncomment.\n",
    "\n",
    "\n",
    "\n",
    "# # get data with wine quality greater than 4 and less than 8\n",
    "df = df[(df['quality'] > 4) & (df['quality'] < 8 )]\n",
    "\n",
    "# # reset index and drop the old one\n",
    "df = df.reset_index(drop=True)"
   ]
  },
  {
   "cell_type": "code",
   "execution_count": 17,
   "metadata": {
    "deletable": false,
    "editable": false,
    "nbgrader": {
     "cell_type": "code",
     "checksum": "281e1d86a4803560ed5892cd7eda4c01",
     "grade": true,
     "grade_id": "cell-aed3da719d4682c7",
     "locked": true,
     "points": 1,
     "schema_version": 3,
     "solution": false,
     "task": false
    }
   },
   "outputs": [
    {
     "name": "stdout",
     "output_type": "stream",
     "text": [
      "\u001b[92m All public tests passed\n"
     ]
    }
   ],
   "source": [
    "utils.test_df_drop(df)\n",
    "\n"
   ]
  },
  {
   "cell_type": "code",
   "execution_count": 18,
   "metadata": {
    "colab": {},
    "colab_type": "code",
    "id": "xNR1iAlMRPXO"
   },
   "outputs": [
    {
     "name": "stdout",
     "output_type": "stream",
     "text": [
      "9.4\n",
      "10.9\n"
     ]
    }
   ],
   "source": [
    "print(df.alcohol[0])\n",
    "print(df.alcohol[100])\n",
    "\n",
    "# EXPECTED OUTPUT\n",
    "# 9.4\n",
    "# 10.9"
   ]
  },
  {
   "cell_type": "markdown",
   "metadata": {
    "colab_type": "text",
    "id": "cwhuRpnVRTzG"
   },
   "source": [
    "You can plot again to see the new range of data and quality"
   ]
  },
  {
   "cell_type": "code",
   "execution_count": 19,
   "metadata": {
    "colab": {},
    "colab_type": "code",
    "id": "857ygzZiLgGg"
   },
   "outputs": [
    {
     "data": {
      "image/png": "[encoded data removed]",
      "text/plain": [
       "<Figure size 432x288 with 1 Axes>"
      ]
     },
     "metadata": {
      "needs_background": "light"
     },
     "output_type": "display_data"
    }
   ],
   "source": [
    "df['quality'].hist(bins=20);"
   ]
  },
  {
   "cell_type": "markdown",
   "metadata": {
    "colab_type": "text",
    "id": "n3k0vqSsp84t"
   },
   "source": [
    "### Train Test Split (TODO)\n",
    "\n",
    "Next, you can split the datasets into training, test and validation datasets.\n",
    "- The data frame should be split 80:20 into `train` and `test` sets.\n",
    "- The resulting `train` should then be split 80:20 into `train` and `val` sets.\n",
    "- The `train_test_split` parameter `test_size` takes a float value that ranges between 0. and 1, and represents the proportion of the dataset that is allocated to the test set.  The rest of the data is allocated to the training set."
   ]
  },
  {
   "cell_type": "code",
   "execution_count": 20,
   "metadata": {
    "colab": {},
    "colab_type": "code",
    "deletable": false,
    "id": "PAVIf2-fgRVY",
    "nbgrader": {
     "cell_type": "code",
     "checksum": "7f5738f4fb51d65adc9a8acbdf2b9970",
     "grade": false,
     "grade_id": "cell-91946cadf745206b",
     "locked": false,
     "schema_version": 3,
     "solution": true,
     "task": false
    }
   },
   "outputs": [],
   "source": [
    "## Please uncomment all lines in this cell and replace those marked with `# YOUR CODE HERE`.\n",
    "## You can select all lines in this code cell with Ctrl+A (Windows/Linux) or Cmd+A (Mac), then press Ctrl+/ (Windows/Linux) or Cmd+/ (Mac) to uncomment.\n",
    "\n",
    "\n",
    "\n",
    "## Please do not change the random_state parameter. This is needed for grading.\n",
    "\n",
    "# # split df into 80:20 train and test sets\n",
    "train, test = train_test_split(df, test_size= 0.2, random_state = 1)\n",
    "                               \n",
    "# # split train into 80:20 train and val sets\n",
    "train, val = train_test_split(train, test_size= 0.2, random_state = 1)"
   ]
  },
  {
   "cell_type": "code",
   "execution_count": 21,
   "metadata": {
    "colab": {},
    "colab_type": "code",
    "deletable": false,
    "editable": false,
    "id": "57h9LcEzRWpk",
    "nbgrader": {
     "cell_type": "code",
     "checksum": "42adbe9e66efac7c7a5f8cd73ac92f22",
     "grade": true,
     "grade_id": "cell-64b8b38cd0b965f6",
     "locked": true,
     "points": 1,
     "schema_version": 3,
     "solution": false,
     "task": false
    }
   },
   "outputs": [
    {
     "name": "stdout",
     "output_type": "stream",
     "text": [
      "\u001b[92m All public tests passed\n"
     ]
    }
   ],
   "source": [
    "utils.test_data_sizes(train.size, test.size, val.size)\n",
    "\n"
   ]
  },
  {
   "cell_type": "markdown",
   "metadata": {
    "colab_type": "text",
    "id": "RwTNu4KFqG-K"
   },
   "source": [
    "Here's where you can explore the training stats. You can pop the labels 'is_red' and 'quality' from the data as these will be used as the labels\n"
   ]
  },
  {
   "cell_type": "code",
   "execution_count": 22,
   "metadata": {
    "colab": {},
    "colab_type": "code",
    "id": "Y_afyhhHM6WQ"
   },
   "outputs": [],
   "source": [
    "train_stats = train.describe()\n",
    "train_stats.pop('is_red')\n",
    "train_stats.pop('quality')\n",
    "train_stats = train_stats.transpose()"
   ]
  },
  {
   "cell_type": "markdown",
   "metadata": {
    "colab_type": "text",
    "id": "ahvbYm4fNqSt"
   },
   "source": [
    "Explore the training stats!"
   ]
  },
  {
   "cell_type": "code",
   "execution_count": 23,
   "metadata": {
    "colab": {},
    "colab_type": "code",
    "id": "n_gAtPjZ0otF"
   },
   "outputs": [
    {
     "data": {
      "text/html": [
       "<div>\n",
       "<style scoped>\n",
       "    .dataframe tbody tr th:only-of-type {\n",
       "        vertical-align: middle;\n",
       "    }\n",
       "\n",
       "    .dataframe tbody tr th {\n",
       "        vertical-align: top;\n",
       "    }\n",
       "\n",
       "    .dataframe thead th {\n",
       "        text-align: right;\n",
       "    }\n",
       "</style>\n",
       "<table border=\"1\" class=\"dataframe\">\n",
       "  <thead>\n",
       "    <tr style=\"text-align: right;\">\n",
       "      <th></th>\n",
       "      <th>count</th>\n",
       "      <th>mean</th>\n",
       "      <th>std</th>\n",
       "      <th>min</th>\n",
       "      <th>25%</th>\n",
       "      <th>50%</th>\n",
       "      <th>75%</th>\n",
       "      <th>max</th>\n",
       "    </tr>\n",
       "  </thead>\n",
       "  <tbody>\n",
       "    <tr>\n",
       "      <th>fixed acidity</th>\n",
       "      <td>3155.0</td>\n",
       "      <td>7.221616</td>\n",
       "      <td>1.325297</td>\n",
       "      <td>3.80000</td>\n",
       "      <td>6.40000</td>\n",
       "      <td>7.00000</td>\n",
       "      <td>7.7000</td>\n",
       "      <td>15.60000</td>\n",
       "    </tr>\n",
       "    <tr>\n",
       "      <th>volatile acidity</th>\n",
       "      <td>3155.0</td>\n",
       "      <td>0.338929</td>\n",
       "      <td>0.162476</td>\n",
       "      <td>0.08000</td>\n",
       "      <td>0.23000</td>\n",
       "      <td>0.29000</td>\n",
       "      <td>0.4000</td>\n",
       "      <td>1.24000</td>\n",
       "    </tr>\n",
       "    <tr>\n",
       "      <th>citric acid</th>\n",
       "      <td>3155.0</td>\n",
       "      <td>0.321569</td>\n",
       "      <td>0.147970</td>\n",
       "      <td>0.00000</td>\n",
       "      <td>0.25000</td>\n",
       "      <td>0.31000</td>\n",
       "      <td>0.4000</td>\n",
       "      <td>1.66000</td>\n",
       "    </tr>\n",
       "    <tr>\n",
       "      <th>residual sugar</th>\n",
       "      <td>3155.0</td>\n",
       "      <td>5.155911</td>\n",
       "      <td>4.639632</td>\n",
       "      <td>0.60000</td>\n",
       "      <td>1.80000</td>\n",
       "      <td>2.80000</td>\n",
       "      <td>7.6500</td>\n",
       "      <td>65.80000</td>\n",
       "    </tr>\n",
       "    <tr>\n",
       "      <th>chlorides</th>\n",
       "      <td>3155.0</td>\n",
       "      <td>0.056976</td>\n",
       "      <td>0.036802</td>\n",
       "      <td>0.01200</td>\n",
       "      <td>0.03800</td>\n",
       "      <td>0.04700</td>\n",
       "      <td>0.0660</td>\n",
       "      <td>0.61100</td>\n",
       "    </tr>\n",
       "    <tr>\n",
       "      <th>free sulfur dioxide</th>\n",
       "      <td>3155.0</td>\n",
       "      <td>30.388590</td>\n",
       "      <td>17.236784</td>\n",
       "      <td>1.00000</td>\n",
       "      <td>17.00000</td>\n",
       "      <td>28.00000</td>\n",
       "      <td>41.0000</td>\n",
       "      <td>131.00000</td>\n",
       "    </tr>\n",
       "    <tr>\n",
       "      <th>total sulfur dioxide</th>\n",
       "      <td>3155.0</td>\n",
       "      <td>115.062282</td>\n",
       "      <td>56.706617</td>\n",
       "      <td>6.00000</td>\n",
       "      <td>75.00000</td>\n",
       "      <td>117.00000</td>\n",
       "      <td>156.0000</td>\n",
       "      <td>344.00000</td>\n",
       "    </tr>\n",
       "    <tr>\n",
       "      <th>density</th>\n",
       "      <td>3155.0</td>\n",
       "      <td>0.994633</td>\n",
       "      <td>0.003005</td>\n",
       "      <td>0.98711</td>\n",
       "      <td>0.99232</td>\n",
       "      <td>0.99481</td>\n",
       "      <td>0.9968</td>\n",
       "      <td>1.03898</td>\n",
       "    </tr>\n",
       "    <tr>\n",
       "      <th>pH</th>\n",
       "      <td>3155.0</td>\n",
       "      <td>3.223201</td>\n",
       "      <td>0.161272</td>\n",
       "      <td>2.72000</td>\n",
       "      <td>3.11000</td>\n",
       "      <td>3.21000</td>\n",
       "      <td>3.3300</td>\n",
       "      <td>4.01000</td>\n",
       "    </tr>\n",
       "    <tr>\n",
       "      <th>sulphates</th>\n",
       "      <td>3155.0</td>\n",
       "      <td>0.534051</td>\n",
       "      <td>0.149149</td>\n",
       "      <td>0.22000</td>\n",
       "      <td>0.43000</td>\n",
       "      <td>0.51000</td>\n",
       "      <td>0.6000</td>\n",
       "      <td>1.95000</td>\n",
       "    </tr>\n",
       "    <tr>\n",
       "      <th>alcohol</th>\n",
       "      <td>3155.0</td>\n",
       "      <td>10.504466</td>\n",
       "      <td>1.154654</td>\n",
       "      <td>8.50000</td>\n",
       "      <td>9.50000</td>\n",
       "      <td>10.30000</td>\n",
       "      <td>11.3000</td>\n",
       "      <td>14.00000</td>\n",
       "    </tr>\n",
       "  </tbody>\n",
       "</table>\n",
       "</div>"
      ],
      "text/plain": [
       "                       count        mean        std      min       25%  \\\n",
       "fixed acidity         3155.0    7.221616   1.325297  3.80000   6.40000   \n",
       "volatile acidity      3155.0    0.338929   0.162476  0.08000   0.23000   \n",
       "citric acid           3155.0    0.321569   0.147970  0.00000   0.25000   \n",
       "residual sugar        3155.0    5.155911   4.639632  0.60000   1.80000   \n",
       "chlorides             3155.0    0.056976   0.036802  0.01200   0.03800   \n",
       "free sulfur dioxide   3155.0   30.388590  17.236784  1.00000  17.00000   \n",
       "total sulfur dioxide  3155.0  115.062282  56.706617  6.00000  75.00000   \n",
       "density               3155.0    0.994633   0.003005  0.98711   0.99232   \n",
       "pH                    3155.0    3.223201   0.161272  2.72000   3.11000   \n",
       "sulphates             3155.0    0.534051   0.149149  0.22000   0.43000   \n",
       "alcohol               3155.0   10.504466   1.154654  8.50000   9.50000   \n",
       "\n",
       "                            50%       75%        max  \n",
       "fixed acidity           7.00000    7.7000   15.60000  \n",
       "volatile acidity        0.29000    0.4000    1.24000  \n",
       "citric acid             0.31000    0.4000    1.66000  \n",
       "residual sugar          2.80000    7.6500   65.80000  \n",
       "chlorides               0.04700    0.0660    0.61100  \n",
       "free sulfur dioxide    28.00000   41.0000  131.00000  \n",
       "total sulfur dioxide  117.00000  156.0000  344.00000  \n",
       "density                 0.99481    0.9968    1.03898  \n",
       "pH                      3.21000    3.3300    4.01000  \n",
       "sulphates               0.51000    0.6000    1.95000  \n",
       "alcohol                10.30000   11.3000   14.00000  "
      ]
     },
     "execution_count": 23,
     "metadata": {},
     "output_type": "execute_result"
    }
   ],
   "source": [
    "train_stats"
   ]
  },
  {
   "cell_type": "markdown",
   "metadata": {
    "colab_type": "text",
    "id": "bGPvt9jir_HC"
   },
   "source": [
    "### Get the labels (TODO)\n",
    "\n",
    "The features and labels are currently in the same dataframe.\n",
    "- You will want to store the label columns `is_red` and `quality` separately from the feature columns.  \n",
    "- The following function, `format_output`, gets these two columns from the dataframe (it's given to you).\n",
    "- `format_output` also formats the data into numpy arrays. \n",
    "- Please use the `format_output` and apply it to the `train`, `val` and `test` sets to get dataframes for the labels."
   ]
  },
  {
   "cell_type": "code",
   "execution_count": 24,
   "metadata": {
    "colab": {},
    "colab_type": "code",
    "id": "Z_fs14XQqZVP"
   },
   "outputs": [],
   "source": [
    "def format_output(data):\n",
    "    is_red = data.pop('is_red')\n",
    "    is_red = np.array(is_red)\n",
    "    quality = data.pop('quality')\n",
    "    quality = np.array(quality)\n",
    "    return (quality, is_red)"
   ]
  },
  {
   "cell_type": "code",
   "execution_count": 25,
   "metadata": {
    "colab": {},
    "colab_type": "code",
    "deletable": false,
    "id": "8L3ZZe1fQicm",
    "nbgrader": {
     "cell_type": "code",
     "checksum": "7a86809e54895a816434c48dc903f55d",
     "grade": false,
     "grade_id": "cell-5c30fa2c2a354b0f",
     "locked": false,
     "schema_version": 3,
     "solution": true,
     "task": false
    }
   },
   "outputs": [],
   "source": [
    "## Please uncomment all lines in this cell and replace those marked with `# YOUR CODE HERE`.\n",
    "## You can select all lines in this code cell with Ctrl+A (Windows/Linux) or Cmd+A (Mac), then press Ctrl+/ (Windows/Linux) or Cmd+/ (Mac) to uncomment.\n",
    "\n",
    "\n",
    "\n",
    "# # format the output of the train set\n",
    "train_Y = format_output(train)# YOUR CODE HERE)\n",
    "\n",
    "# # format the output of the val set\n",
    "val_Y = format_output(val)\n",
    "    \n",
    "# # format the output of the test set\n",
    "test_Y = format_output(test)"
   ]
  },
  {
   "cell_type": "code",
   "execution_count": 26,
   "metadata": {
    "deletable": false,
    "editable": false,
    "nbgrader": {
     "cell_type": "code",
     "checksum": "359cabbafaed14ec9bbc1e57a7b6f32c",
     "grade": true,
     "grade_id": "cell-4977d8befb80f56b",
     "locked": true,
     "points": 1,
     "schema_version": 3,
     "solution": false,
     "task": false
    }
   },
   "outputs": [
    {
     "name": "stdout",
     "output_type": "stream",
     "text": [
      "\u001b[92m All public tests passed\n"
     ]
    }
   ],
   "source": [
    "utils.test_format_output(df, train_Y, val_Y, test_Y)"
   ]
  },
  {
   "cell_type": "markdown",
   "metadata": {},
   "source": [
    "Notice that after you get the labels, the `train`, `val` and `test` dataframes no longer contain the label columns, and contain just the feature columns.\n",
    "- This is because you used `.pop` in the `format_output` function."
   ]
  },
  {
   "cell_type": "code",
   "execution_count": 27,
   "metadata": {},
   "outputs": [
    {
     "data": {
      "text/html": [
       "<div>\n",
       "<style scoped>\n",
       "    .dataframe tbody tr th:only-of-type {\n",
       "        vertical-align: middle;\n",
       "    }\n",
       "\n",
       "    .dataframe tbody tr th {\n",
       "        vertical-align: top;\n",
       "    }\n",
       "\n",
       "    .dataframe thead th {\n",
       "        text-align: right;\n",
       "    }\n",
       "</style>\n",
       "<table border=\"1\" class=\"dataframe\">\n",
       "  <thead>\n",
       "    <tr style=\"text-align: right;\">\n",
       "      <th></th>\n",
       "      <th>fixed acidity</th>\n",
       "      <th>volatile acidity</th>\n",
       "      <th>citric acid</th>\n",
       "      <th>residual sugar</th>\n",
       "      <th>chlorides</th>\n",
       "      <th>free sulfur dioxide</th>\n",
       "      <th>total sulfur dioxide</th>\n",
       "      <th>density</th>\n",
       "      <th>pH</th>\n",
       "      <th>sulphates</th>\n",
       "      <th>alcohol</th>\n",
       "    </tr>\n",
       "  </thead>\n",
       "  <tbody>\n",
       "    <tr>\n",
       "      <th>225</th>\n",
       "      <td>7.5</td>\n",
       "      <td>0.65</td>\n",
       "      <td>0.18</td>\n",
       "      <td>7.0</td>\n",
       "      <td>0.088</td>\n",
       "      <td>27.0</td>\n",
       "      <td>94.0</td>\n",
       "      <td>0.99915</td>\n",
       "      <td>3.38</td>\n",
       "      <td>0.77</td>\n",
       "      <td>9.4</td>\n",
       "    </tr>\n",
       "    <tr>\n",
       "      <th>3557</th>\n",
       "      <td>6.3</td>\n",
       "      <td>0.27</td>\n",
       "      <td>0.29</td>\n",
       "      <td>12.2</td>\n",
       "      <td>0.044</td>\n",
       "      <td>59.0</td>\n",
       "      <td>196.0</td>\n",
       "      <td>0.99782</td>\n",
       "      <td>3.14</td>\n",
       "      <td>0.40</td>\n",
       "      <td>8.8</td>\n",
       "    </tr>\n",
       "    <tr>\n",
       "      <th>3825</th>\n",
       "      <td>8.8</td>\n",
       "      <td>0.27</td>\n",
       "      <td>0.25</td>\n",
       "      <td>5.0</td>\n",
       "      <td>0.024</td>\n",
       "      <td>52.0</td>\n",
       "      <td>99.0</td>\n",
       "      <td>0.99250</td>\n",
       "      <td>2.87</td>\n",
       "      <td>0.49</td>\n",
       "      <td>11.4</td>\n",
       "    </tr>\n",
       "    <tr>\n",
       "      <th>1740</th>\n",
       "      <td>6.4</td>\n",
       "      <td>0.45</td>\n",
       "      <td>0.07</td>\n",
       "      <td>1.1</td>\n",
       "      <td>0.030</td>\n",
       "      <td>10.0</td>\n",
       "      <td>131.0</td>\n",
       "      <td>0.99050</td>\n",
       "      <td>2.97</td>\n",
       "      <td>0.28</td>\n",
       "      <td>10.8</td>\n",
       "    </tr>\n",
       "    <tr>\n",
       "      <th>1221</th>\n",
       "      <td>7.2</td>\n",
       "      <td>0.53</td>\n",
       "      <td>0.13</td>\n",
       "      <td>2.0</td>\n",
       "      <td>0.058</td>\n",
       "      <td>18.0</td>\n",
       "      <td>22.0</td>\n",
       "      <td>0.99573</td>\n",
       "      <td>3.21</td>\n",
       "      <td>0.68</td>\n",
       "      <td>9.9</td>\n",
       "    </tr>\n",
       "  </tbody>\n",
       "</table>\n",
       "</div>"
      ],
      "text/plain": [
       "      fixed acidity  volatile acidity  citric acid  residual sugar  chlorides  \\\n",
       "225             7.5              0.65         0.18             7.0      0.088   \n",
       "3557            6.3              0.27         0.29            12.2      0.044   \n",
       "3825            8.8              0.27         0.25             5.0      0.024   \n",
       "1740            6.4              0.45         0.07             1.1      0.030   \n",
       "1221            7.2              0.53         0.13             2.0      0.058   \n",
       "\n",
       "      free sulfur dioxide  total sulfur dioxide  density    pH  sulphates  \\\n",
       "225                  27.0                  94.0  0.99915  3.38       0.77   \n",
       "3557                 59.0                 196.0  0.99782  3.14       0.40   \n",
       "3825                 52.0                  99.0  0.99250  2.87       0.49   \n",
       "1740                 10.0                 131.0  0.99050  2.97       0.28   \n",
       "1221                 18.0                  22.0  0.99573  3.21       0.68   \n",
       "\n",
       "      alcohol  \n",
       "225       9.4  \n",
       "3557      8.8  \n",
       "3825     11.4  \n",
       "1740     10.8  \n",
       "1221      9.9  "
      ]
     },
     "execution_count": 27,
     "metadata": {},
     "output_type": "execute_result"
    }
   ],
   "source": [
    "train.head()"
   ]
  },
  {
   "cell_type": "markdown",
   "metadata": {
    "colab_type": "text",
    "id": "hEdbrruAsN1D"
   },
   "source": [
    "### Normalize the data (TODO)\n",
    "\n",
    "Next, you can normalize the data, x, using the formula:\n",
    "$$x_{norm} = \\frac{x - \\mu}{\\sigma}$$\n",
    "- The `norm` function is defined for you.\n",
    "- Please apply the `norm` function to normalize the dataframes that contains the feature columns of `train`, `val` and `test` sets."
   ]
  },
  {
   "cell_type": "code",
   "execution_count": 28,
   "metadata": {
    "colab": {},
    "colab_type": "code",
    "id": "WWiZPAHCLjUs"
   },
   "outputs": [],
   "source": [
    "def norm(x):\n",
    "    return (x - train_stats['mean']) / train_stats['std']"
   ]
  },
  {
   "cell_type": "code",
   "execution_count": 29,
   "metadata": {
    "colab": {},
    "colab_type": "code",
    "deletable": false,
    "id": "JEaOi2I2Lk69",
    "nbgrader": {
     "cell_type": "code",
     "checksum": "6bc0cdcb563d192f271067aa3373ff32",
     "grade": false,
     "grade_id": "cell-d8416d975c371095",
     "locked": false,
     "schema_version": 3,
     "solution": true,
     "task": false
    }
   },
   "outputs": [],
   "source": [
    "## Please uncomment all lines in this cell and replace those marked with `# YOUR CODE HERE`.\n",
    "## You can select all lines in this code cell with Ctrl+A (Windows/Linux) or Cmd+A (Mac), then press Ctrl+/ (Windows/Linux) or Cmd+/ (Mac) to uncomment.\n",
    "\n",
    "\n",
    "\n",
    "# # normalize the train set\n",
    "norm_train_X = norm(train)\n",
    "    \n",
    "# # normalize the val set\n",
    "norm_val_X = norm(val)\n",
    "    \n",
    "# # normalize the test set\n",
    "norm_test_X = norm(test)"
   ]
  },
  {
   "cell_type": "code",
   "execution_count": 30,
   "metadata": {
    "deletable": false,
    "editable": false,
    "nbgrader": {
     "cell_type": "code",
     "checksum": "4f567db45bf40191601780379cc100b8",
     "grade": true,
     "grade_id": "cell-97fad979d157529b",
     "locked": true,
     "points": 1,
     "schema_version": 3,
     "solution": false,
     "task": false
    }
   },
   "outputs": [
    {
     "name": "stdout",
     "output_type": "stream",
     "text": [
      "\u001b[92m All public tests passed\n"
     ]
    }
   ],
   "source": [
    "utils.test_norm(norm_train_X, norm_val_X, norm_test_X, train, val, test)\n"
   ]
  },
  {
   "cell_type": "markdown",
   "metadata": {
    "colab_type": "text",
    "id": "hzykDwQhsaPO"
   },
   "source": [
    "## Define the Model (TODO)\n",
    "\n",
    "Define the model using the functional API. The base model will be 2 `Dense` layers of 128 neurons each, and have the `'relu'` activation.\n",
    "- Check out the documentation for [tf.keras.layers.Dense](https://www.tensorflow.org/api_docs/python/tf/keras/layers/Dense)"
   ]
  },
  {
   "cell_type": "code",
   "execution_count": 31,
   "metadata": {
    "colab": {},
    "colab_type": "code",
    "deletable": false,
    "id": "Rhcns3oTFkM6",
    "nbgrader": {
     "cell_type": "code",
     "checksum": "74b031247e569526552bf13a034a1c07",
     "grade": false,
     "grade_id": "cell-73fceedad1fe351c",
     "locked": false,
     "schema_version": 3,
     "solution": true,
     "task": false
    }
   },
   "outputs": [],
   "source": [
    "## Please uncomment all lines in this cell and replace those marked with `# YOUR CODE HERE`.\n",
    "## You can select all lines in this code cell with Ctrl+A (Windows/Linux) or Cmd+A (Mac), then press Ctrl+/ (Windows/Linux) or Cmd+/ (Mac) to uncomment.\n",
    "\n",
    "\n",
    "\n",
    "def base_model(inputs):\n",
    "    \n",
    "    # connect a Dense layer with 128 neurons and a relu activation\n",
    "    x = Dense(128, activation = tf.nn.relu)(inputs)\n",
    "    \n",
    "    # connect another Dense layer with 128 neurons and a relu activation\n",
    "    x = Dense(128, activation= 'relu')(x)\n",
    "    return x\n",
    "  "
   ]
  },
  {
   "cell_type": "code",
   "execution_count": 32,
   "metadata": {
    "deletable": false,
    "editable": false,
    "nbgrader": {
     "cell_type": "code",
     "checksum": "9255924b3def80f679616e4c851a43e1",
     "grade": true,
     "grade_id": "cell-54f742a133353d75",
     "locked": true,
     "points": 1,
     "schema_version": 3,
     "solution": false,
     "task": false
    }
   },
   "outputs": [
    {
     "name": "stdout",
     "output_type": "stream",
     "text": [
      "\u001b[92m All public tests passed\n"
     ]
    }
   ],
   "source": [
    "utils.test_base_model(base_model)"
   ]
  },
  {
   "cell_type": "markdown",
   "metadata": {
    "colab_type": "text",
    "id": "xem_fcVws6Kz"
   },
   "source": [
    "# Define output layers of the model (TODO)\n",
    "\n",
    "You will add output layers to the base model. \n",
    "- The model will need two outputs.\n",
    "\n",
    "One output layer will predict wine quality, which is a numeric value.\n",
    "- Define a `Dense` layer with 1 neuron.\n",
    "- Since this is a regression output, the activation can be left as its default value `None`.\n",
    "\n",
    "The other output layer will predict the wine type, which is either red `1` or not red `0` (white).\n",
    "- Define a `Dense` layer with 1 neuron.\n",
    "- Since there are two possible categories, you can use a sigmoid activation for binary classification.\n",
    "\n",
    "Define the `Model`\n",
    "- Define the `Model` object, and set the following parameters:\n",
    "  - `inputs`: pass in the inputs to the model as a list.\n",
    "  - `outputs`: pass in a list of the outputs that you just defined: wine quality, then wine type.\n",
    "  - **Note**: please list the wine quality before wine type in the outputs, as this will affect the calculated loss if you choose the other order."
   ]
  },
  {
   "cell_type": "code",
   "execution_count": 35,
   "metadata": {
    "colab": {},
    "colab_type": "code",
    "deletable": false,
    "id": "n5UGF8PMVLPt",
    "nbgrader": {
     "cell_type": "code",
     "checksum": "76d35b90d20cdcbb22986cd8211057de",
     "grade": false,
     "grade_id": "cell-19e285f482f021fb",
     "locked": false,
     "schema_version": 3,
     "solution": true,
     "task": false
    }
   },
   "outputs": [],
   "source": [
    "## Please uncomment all lines in this cell and replace those marked with `# YOUR CODE HERE`.\n",
    "## You can select all lines in this code cell with Ctrl+A (Windows/Linux) or Cmd+A (Mac), then press Ctrl+/ (Windows/Linux) or Cmd+/ (Mac) to uncomment.\n",
    "\n",
    "\n",
    "\n",
    "def final_model(inputs):\n",
    "    \n",
    "    # get the base model\n",
    "    x = base_model(inputs)\n",
    "\n",
    "    # connect the output Dense layer for regression\n",
    "    wine_quality = Dense(units='1', name='wine_quality')(x)\n",
    "\n",
    "    # connect the output Dense layer for classification. this will use a sigmoid activation.\n",
    "    wine_type = Dense(units='1', activation=\"sigmoid\", name='wine_type')(x)\n",
    "\n",
    "    # define the model using the input and output layers\n",
    "    model = Model(inputs=[inputs], outputs=[wine_quality, wine_type])\n",
    "\n",
    "    return model"
   ]
  },
  {
   "cell_type": "code",
   "execution_count": 36,
   "metadata": {
    "deletable": false,
    "editable": false,
    "nbgrader": {
     "cell_type": "code",
     "checksum": "89cbf89d8ab5e2e59ecf7f63f517520a",
     "grade": true,
     "grade_id": "cell-40d050f855c817d1",
     "locked": true,
     "points": 1,
     "schema_version": 3,
     "solution": false,
     "task": false
    }
   },
   "outputs": [
    {
     "name": "stdout",
     "output_type": "stream",
     "text": [
      "\u001b[92m All public tests passed\n"
     ]
    }
   ],
   "source": [
    "utils.test_final_model(final_model)"
   ]
  },
  {
   "cell_type": "markdown",
   "metadata": {
    "colab_type": "text",
    "id": "5R0BMTsltZyu"
   },
   "source": [
    "## Compiling the Model\n",
    "\n",
    "Next, compile the model. When setting the loss parameter of `model.compile`, you're setting the loss for each of the two outputs (wine quality and wine type).\n",
    "\n",
    "To set more than one loss, use a dictionary of key-value pairs.\n",
    "- You can look at the docs for the losses [here](https://www.tensorflow.org/api_docs/python/tf/keras/losses#functions).\n",
    "    - **Note**: For the desired spelling, please look at the \"Functions\" section of the documentation and not the \"classes\" section on that same page.\n",
    "- wine_type: Since you will be performing binary classification on wine type, you should use the binary crossentropy loss function for it.  Please pass this in as a string.  \n",
    "  - **Hint**, this should be all lowercase.  In the documentation, you'll see this under the \"Functions\" section, not the \"Classes\" section.\n",
    "- wine_quality: since this is a regression output, use the mean squared error.  Please pass it in as a string, all lowercase.\n",
    "  - **Hint**: You may notice that there are two aliases for mean squared error.  Please use the shorter name.\n",
    "\n",
    "\n",
    "You will also set the metric for each of the two outputs.  Again, to set metrics for two or more outputs, use a dictionary with key value pairs.\n",
    "- The metrics documentation is linked [here](https://www.tensorflow.org/api_docs/python/tf/keras/metrics).\n",
    "- For the wine type, please set it to accuracy as a string, all lowercase.\n",
    "- For wine quality, please use the root mean squared error.  Instead of a string, you'll set it to an instance of the class [RootMeanSquaredError](https://www.tensorflow.org/api_docs/python/tf/keras/metrics/RootMeanSquaredError), which belongs to the tf.keras.metrics module.\n",
    "\n",
    "**Note**: If you see the error message \n",
    ">Exception: wine quality loss function is incorrect.\n",
    "\n",
    "- Please also check your other losses and metrics, as the error may be caused by the other three key-value pairs and not the wine quality loss."
   ]
  },
  {
   "cell_type": "code",
   "execution_count": 37,
   "metadata": {
    "colab": {},
    "colab_type": "code",
    "deletable": false,
    "id": "LK11duUbUjmh",
    "nbgrader": {
     "cell_type": "code",
     "checksum": "22f45067ca69eb2ccadb43874dbcc27b",
     "grade": false,
     "grade_id": "cell-81afdc4dcca51d5e",
     "locked": false,
     "schema_version": 3,
     "solution": true,
     "task": false
    }
   },
   "outputs": [],
   "source": [
    "## Please uncomment all lines in this cell and replace those marked with `# YOUR CODE HERE`.\n",
    "## You can select all lines in this code cell with Ctrl+A (Windows/Linux) or Cmd+A (Mac), then press Ctrl+/ (Windows/Linux) or Cmd+/ (Mac) to uncomment.\n",
    "\n",
    "\n",
    "\n",
    "inputs = tf.keras.layers.Input(shape=(11,))\n",
    "rms = tf.keras.optimizers.RMSprop(lr=0.0001)\n",
    "model = final_model(inputs)\n",
    "\n",
    "model.compile(optimizer=rms, \n",
    "              loss = {'wine_type' : \"binary_crossentropy\",\n",
    "                      'wine_quality' : \"mse\"# YOUR CODE HERE\n",
    "                     },\n",
    "              metrics = {'wine_type' : \"accuracy\",\n",
    "                         'wine_quality': tf.keras.metrics.RootMeanSquaredError()# YOUR CODE HERE\n",
    "                       }\n",
    "             )\n"
   ]
  },
  {
   "cell_type": "code",
   "execution_count": 38,
   "metadata": {
    "deletable": false,
    "editable": false,
    "nbgrader": {
     "cell_type": "code",
     "checksum": "88e02238ea5e456ff65e835cc8158054",
     "grade": true,
     "grade_id": "cell-2eeeba02391c4632",
     "locked": true,
     "points": 1,
     "schema_version": 3,
     "solution": false,
     "task": false
    }
   },
   "outputs": [
    {
     "name": "stdout",
     "output_type": "stream",
     "text": [
      "\u001b[92m All public tests passed\n"
     ]
    }
   ],
   "source": [
    "utils.test_model_compile(model)"
   ]
  },
  {
   "cell_type": "markdown",
   "metadata": {
    "colab_type": "text",
    "id": "90MpAMpWuKm-"
   },
   "source": [
    "## Training the Model\n",
    "\n",
    "Fit the model to the training inputs and outputs. \n",
    "- Check the documentation for [model.fit](https://www.tensorflow.org/api_docs/python/tf/keras/Model#fit).\n",
    "- Remember to use the normalized training set as inputs. \n",
    "- For the validation data, please use the normalized validation set."
   ]
  },
  {
   "cell_type": "code",
   "execution_count": 39,
   "metadata": {
    "colab": {},
    "colab_type": "code",
    "deletable": false,
    "id": "_eiZkle4XwiY",
    "nbgrader": {
     "cell_type": "code",
     "checksum": "2ca7664be03bfd6fd3651ae44d17b793",
     "grade": false,
     "grade_id": "cell-0bb56262896f6680",
     "locked": false,
     "schema_version": 3,
     "solution": true,
     "task": false
    }
   },
   "outputs": [
    {
     "name": "stdout",
     "output_type": "stream",
     "text": [
      "Train on 3155 samples, validate on 789 samples\n",
      "Epoch 1/180\n",
      "3155/3155 [==============================] - 1s 364us/sample - loss: 6.1356 - wine_quality_loss: 5.1425 - wine_type_loss: 0.9747 - wine_quality_root_mean_squared_error: 2.2712 - wine_type_accuracy: 0.7410 - val_loss: 2.1039 - val_wine_quality_loss: 1.8171 - val_wine_type_loss: 0.2864 - val_wine_quality_root_mean_squared_error: 1.3481 - val_wine_type_accuracy: 0.8885\n",
      "Epoch 2/180\n",
      "3155/3155 [==============================] - 0s 97us/sample - loss: 1.2915 - wine_quality_loss: 1.0316 - wine_type_loss: 0.2583 - wine_quality_root_mean_squared_error: 1.0163 - wine_type_accuracy: 0.9119 - val_loss: 0.8584 - val_wine_quality_loss: 0.6166 - val_wine_type_loss: 0.2419 - val_wine_quality_root_mean_squared_error: 0.7854 - val_wine_type_accuracy: 0.9024\n",
      "Epoch 3/180\n",
      "3155/3155 [==============================] - 0s 95us/sample - loss: 0.8827 - wine_quality_loss: 0.6517 - wine_type_loss: 0.2310 - wine_quality_root_mean_squared_error: 0.8074 - wine_type_accuracy: 0.9233 - val_loss: 0.8386 - val_wine_quality_loss: 0.6200 - val_wine_type_loss: 0.2182 - val_wine_quality_root_mean_squared_error: 0.7881 - val_wine_type_accuracy: 0.9265\n",
      "Epoch 4/180\n",
      "3155/3155 [==============================] - 0s 94us/sample - loss: 0.8088 - wine_quality_loss: 0.5891 - wine_type_loss: 0.2191 - wine_quality_root_mean_squared_error: 0.7683 - wine_type_accuracy: 0.9277 - val_loss: 0.6673 - val_wine_quality_loss: 0.4600 - val_wine_type_loss: 0.2079 - val_wine_quality_root_mean_squared_error: 0.6784 - val_wine_type_accuracy: 0.9265\n",
      "Epoch 5/180\n",
      "3155/3155 [==============================] - 0s 96us/sample - loss: 0.7739 - wine_quality_loss: 0.5623 - wine_type_loss: 0.2119 - wine_quality_root_mean_squared_error: 0.7497 - wine_type_accuracy: 0.9322 - val_loss: 1.4382 - val_wine_quality_loss: 1.2409 - val_wine_type_loss: 0.2023 - val_wine_quality_root_mean_squared_error: 1.1121 - val_wine_type_accuracy: 0.9265\n",
      "Epoch 6/180\n",
      "3155/3155 [==============================] - 0s 92us/sample - loss: 0.7627 - wine_quality_loss: 0.5530 - wine_type_loss: 0.2091 - wine_quality_root_mean_squared_error: 0.7439 - wine_type_accuracy: 0.9322 - val_loss: 0.8228 - val_wine_quality_loss: 0.6263 - val_wine_type_loss: 0.1992 - val_wine_quality_root_mean_squared_error: 0.7903 - val_wine_type_accuracy: 0.9278\n",
      "Epoch 7/180\n",
      "3155/3155 [==============================] - 0s 78us/sample - loss: 0.7618 - wine_quality_loss: 0.5556 - wine_type_loss: 0.2055 - wine_quality_root_mean_squared_error: 0.7454 - wine_type_accuracy: 0.9312 - val_loss: 0.7212 - val_wine_quality_loss: 0.5230 - val_wine_type_loss: 0.2000 - val_wine_quality_root_mean_squared_error: 0.7225 - val_wine_type_accuracy: 0.9252\n",
      "Epoch 8/180\n",
      "3155/3155 [==============================] - 0s 91us/sample - loss: 0.7220 - wine_quality_loss: 0.5219 - wine_type_loss: 0.2029 - wine_quality_root_mean_squared_error: 0.7204 - wine_type_accuracy: 0.9312 - val_loss: 1.1026 - val_wine_quality_loss: 0.9152 - val_wine_type_loss: 0.1932 - val_wine_quality_root_mean_squared_error: 0.9541 - val_wine_type_accuracy: 0.9290\n",
      "Epoch 9/180\n",
      "3155/3155 [==============================] - 0s 92us/sample - loss: 0.7219 - wine_quality_loss: 0.5253 - wine_type_loss: 0.1974 - wine_quality_root_mean_squared_error: 0.7241 - wine_type_accuracy: 0.9325 - val_loss: 1.0821 - val_wine_quality_loss: 0.8830 - val_wine_type_loss: 0.2039 - val_wine_quality_root_mean_squared_error: 0.9376 - val_wine_type_accuracy: 0.9278\n",
      "Epoch 10/180\n",
      "3155/3155 [==============================] - 0s 91us/sample - loss: 0.7232 - wine_quality_loss: 0.5241 - wine_type_loss: 0.1984 - wine_quality_root_mean_squared_error: 0.7244 - wine_type_accuracy: 0.9338 - val_loss: 0.6059 - val_wine_quality_loss: 0.4180 - val_wine_type_loss: 0.1881 - val_wine_quality_root_mean_squared_error: 0.6471 - val_wine_type_accuracy: 0.9290\n",
      "Epoch 11/180\n",
      "3155/3155 [==============================] - 0s 74us/sample - loss: 0.7151 - wine_quality_loss: 0.5198 - wine_type_loss: 0.1954 - wine_quality_root_mean_squared_error: 0.7211 - wine_type_accuracy: 0.9347 - val_loss: 0.5997 - val_wine_quality_loss: 0.4144 - val_wine_type_loss: 0.1864 - val_wine_quality_root_mean_squared_error: 0.6436 - val_wine_type_accuracy: 0.9290\n",
      "Epoch 12/180\n",
      "3155/3155 [==============================] - 0s 90us/sample - loss: 0.6943 - wine_quality_loss: 0.5018 - wine_type_loss: 0.1926 - wine_quality_root_mean_squared_error: 0.7085 - wine_type_accuracy: 0.9334 - val_loss: 0.5916 - val_wine_quality_loss: 0.4031 - val_wine_type_loss: 0.1886 - val_wine_quality_root_mean_squared_error: 0.6355 - val_wine_type_accuracy: 0.9328\n",
      "Epoch 13/180\n",
      "3155/3155 [==============================] - 0s 91us/sample - loss: 0.7136 - wine_quality_loss: 0.5238 - wine_type_loss: 0.1925 - wine_quality_root_mean_squared_error: 0.7229 - wine_type_accuracy: 0.9328 - val_loss: 0.8224 - val_wine_quality_loss: 0.6372 - val_wine_type_loss: 0.1843 - val_wine_quality_root_mean_squared_error: 0.7994 - val_wine_type_accuracy: 0.9366\n",
      "Epoch 14/180\n",
      "3155/3155 [==============================] - 0s 93us/sample - loss: 0.6913 - wine_quality_loss: 0.5019 - wine_type_loss: 0.1886 - wine_quality_root_mean_squared_error: 0.7088 - wine_type_accuracy: 0.9331 - val_loss: 0.6822 - val_wine_quality_loss: 0.5048 - val_wine_type_loss: 0.1790 - val_wine_quality_root_mean_squared_error: 0.7098 - val_wine_type_accuracy: 0.9316\n",
      "Epoch 15/180\n",
      "3155/3155 [==============================] - 0s 93us/sample - loss: 0.6769 - wine_quality_loss: 0.4904 - wine_type_loss: 0.1875 - wine_quality_root_mean_squared_error: 0.6999 - wine_type_accuracy: 0.9347 - val_loss: 1.2223 - val_wine_quality_loss: 1.0445 - val_wine_type_loss: 0.1759 - val_wine_quality_root_mean_squared_error: 1.0233 - val_wine_type_accuracy: 0.9328\n",
      "Epoch 16/180\n",
      "3155/3155 [==============================] - 0s 76us/sample - loss: 0.6834 - wine_quality_loss: 0.4983 - wine_type_loss: 0.1850 - wine_quality_root_mean_squared_error: 0.7062 - wine_type_accuracy: 0.9353 - val_loss: 0.6795 - val_wine_quality_loss: 0.5076 - val_wine_type_loss: 0.1740 - val_wine_quality_root_mean_squared_error: 0.7115 - val_wine_type_accuracy: 0.9341\n",
      "Epoch 17/180\n",
      "3155/3155 [==============================] - 0s 92us/sample - loss: 0.6897 - wine_quality_loss: 0.5064 - wine_type_loss: 0.1832 - wine_quality_root_mean_squared_error: 0.7116 - wine_type_accuracy: 0.9353 - val_loss: 0.6363 - val_wine_quality_loss: 0.4638 - val_wine_type_loss: 0.1739 - val_wine_quality_root_mean_squared_error: 0.6805 - val_wine_type_accuracy: 0.9328\n",
      "Epoch 18/180\n",
      "3155/3155 [==============================] - 0s 92us/sample - loss: 0.6847 - wine_quality_loss: 0.5037 - wine_type_loss: 0.1817 - wine_quality_root_mean_squared_error: 0.7091 - wine_type_accuracy: 0.9357 - val_loss: 0.7667 - val_wine_quality_loss: 0.5947 - val_wine_type_loss: 0.1704 - val_wine_quality_root_mean_squared_error: 0.7726 - val_wine_type_accuracy: 0.9341\n",
      "Epoch 19/180\n",
      "3155/3155 [==============================] - 0s 93us/sample - loss: 0.6823 - wine_quality_loss: 0.5032 - wine_type_loss: 0.1792 - wine_quality_root_mean_squared_error: 0.7092 - wine_type_accuracy: 0.9379 - val_loss: 0.8892 - val_wine_quality_loss: 0.7176 - val_wine_type_loss: 0.1698 - val_wine_quality_root_mean_squared_error: 0.8486 - val_wine_type_accuracy: 0.9354\n",
      "Epoch 20/180\n",
      "3155/3155 [==============================] - 0s 91us/sample - loss: 0.6935 - wine_quality_loss: 0.5168 - wine_type_loss: 0.1771 - wine_quality_root_mean_squared_error: 0.7183 - wine_type_accuracy: 0.9363 - val_loss: 0.6789 - val_wine_quality_loss: 0.5104 - val_wine_type_loss: 0.1673 - val_wine_quality_root_mean_squared_error: 0.7157 - val_wine_type_accuracy: 0.9366\n",
      "Epoch 21/180\n",
      "3155/3155 [==============================] - 0s 94us/sample - loss: 0.6465 - wine_quality_loss: 0.4708 - wine_type_loss: 0.1766 - wine_quality_root_mean_squared_error: 0.6859 - wine_type_accuracy: 0.9357 - val_loss: 1.0480 - val_wine_quality_loss: 0.8851 - val_wine_type_loss: 0.1670 - val_wine_quality_root_mean_squared_error: 0.9390 - val_wine_type_accuracy: 0.9354\n",
      "Epoch 22/180\n",
      "3155/3155 [==============================] - 0s 91us/sample - loss: 0.6674 - wine_quality_loss: 0.4927 - wine_type_loss: 0.1741 - wine_quality_root_mean_squared_error: 0.7020 - wine_type_accuracy: 0.9369 - val_loss: 0.9422 - val_wine_quality_loss: 0.7756 - val_wine_type_loss: 0.1703 - val_wine_quality_root_mean_squared_error: 0.8789 - val_wine_type_accuracy: 0.9328\n",
      "Epoch 23/180\n",
      "3155/3155 [==============================] - 0s 79us/sample - loss: 0.6427 - wine_quality_loss: 0.4686 - wine_type_loss: 0.1730 - wine_quality_root_mean_squared_error: 0.6850 - wine_type_accuracy: 0.9372 - val_loss: 0.6237 - val_wine_quality_loss: 0.4542 - val_wine_type_loss: 0.1680 - val_wine_quality_root_mean_squared_error: 0.6754 - val_wine_type_accuracy: 0.9354\n",
      "Epoch 24/180\n",
      "3155/3155 [==============================] - 0s 94us/sample - loss: 0.6513 - wine_quality_loss: 0.4786 - wine_type_loss: 0.1729 - wine_quality_root_mean_squared_error: 0.6916 - wine_type_accuracy: 0.9372 - val_loss: 0.6057 - val_wine_quality_loss: 0.4415 - val_wine_type_loss: 0.1629 - val_wine_quality_root_mean_squared_error: 0.6658 - val_wine_type_accuracy: 0.9379\n",
      "Epoch 25/180\n",
      "3155/3155 [==============================] - 0s 93us/sample - loss: 0.6448 - wine_quality_loss: 0.4728 - wine_type_loss: 0.1721 - wine_quality_root_mean_squared_error: 0.6880 - wine_type_accuracy: 0.9379 - val_loss: 0.5617 - val_wine_quality_loss: 0.3992 - val_wine_type_loss: 0.1617 - val_wine_quality_root_mean_squared_error: 0.6329 - val_wine_type_accuracy: 0.9455\n",
      "Epoch 26/180\n",
      "3155/3155 [==============================] - 0s 92us/sample - loss: 0.6512 - wine_quality_loss: 0.4808 - wine_type_loss: 0.1700 - wine_quality_root_mean_squared_error: 0.6939 - wine_type_accuracy: 0.9395 - val_loss: 0.5774 - val_wine_quality_loss: 0.4102 - val_wine_type_loss: 0.1663 - val_wine_quality_root_mean_squared_error: 0.6415 - val_wine_type_accuracy: 0.9341\n",
      "Epoch 27/180\n",
      "3155/3155 [==============================] - 0s 93us/sample - loss: 0.6529 - wine_quality_loss: 0.4848 - wine_type_loss: 0.1707 - wine_quality_root_mean_squared_error: 0.6961 - wine_type_accuracy: 0.9391 - val_loss: 0.7833 - val_wine_quality_loss: 0.6230 - val_wine_type_loss: 0.1583 - val_wine_quality_root_mean_squared_error: 0.7909 - val_wine_type_accuracy: 0.9468\n",
      "Epoch 28/180\n",
      "3155/3155 [==============================] - 0s 91us/sample - loss: 0.6304 - wine_quality_loss: 0.4629 - wine_type_loss: 0.1681 - wine_quality_root_mean_squared_error: 0.6804 - wine_type_accuracy: 0.9385 - val_loss: 0.5885 - val_wine_quality_loss: 0.4302 - val_wine_type_loss: 0.1590 - val_wine_quality_root_mean_squared_error: 0.6557 - val_wine_type_accuracy: 0.9455\n",
      "Epoch 29/180\n",
      "3155/3155 [==============================] - 0s 74us/sample - loss: 0.6434 - wine_quality_loss: 0.4772 - wine_type_loss: 0.1657 - wine_quality_root_mean_squared_error: 0.6913 - wine_type_accuracy: 0.9404 - val_loss: 0.5306 - val_wine_quality_loss: 0.3734 - val_wine_type_loss: 0.1571 - val_wine_quality_root_mean_squared_error: 0.6115 - val_wine_type_accuracy: 0.9455\n",
      "Epoch 30/180\n",
      "3155/3155 [==============================] - 0s 90us/sample - loss: 0.6322 - wine_quality_loss: 0.4675 - wine_type_loss: 0.1653 - wine_quality_root_mean_squared_error: 0.6838 - wine_type_accuracy: 0.9398 - val_loss: 0.6555 - val_wine_quality_loss: 0.4973 - val_wine_type_loss: 0.1567 - val_wine_quality_root_mean_squared_error: 0.7066 - val_wine_type_accuracy: 0.9455\n",
      "Epoch 31/180\n",
      "3155/3155 [==============================] - 0s 93us/sample - loss: 0.6348 - wine_quality_loss: 0.4719 - wine_type_loss: 0.1635 - wine_quality_root_mean_squared_error: 0.6874 - wine_type_accuracy: 0.9401 - val_loss: 0.6168 - val_wine_quality_loss: 0.4397 - val_wine_type_loss: 0.1762 - val_wine_quality_root_mean_squared_error: 0.6644 - val_wine_type_accuracy: 0.9544\n",
      "Epoch 32/180\n",
      "3155/3155 [==============================] - 0s 91us/sample - loss: 0.6215 - wine_quality_loss: 0.4575 - wine_type_loss: 0.1634 - wine_quality_root_mean_squared_error: 0.6767 - wine_type_accuracy: 0.9423 - val_loss: 0.5627 - val_wine_quality_loss: 0.4045 - val_wine_type_loss: 0.1571 - val_wine_quality_root_mean_squared_error: 0.6371 - val_wine_type_accuracy: 0.9404\n",
      "Epoch 33/180\n",
      "3155/3155 [==============================] - 0s 92us/sample - loss: 0.6255 - wine_quality_loss: 0.4634 - wine_type_loss: 0.1630 - wine_quality_root_mean_squared_error: 0.6813 - wine_type_accuracy: 0.9423 - val_loss: 0.6327 - val_wine_quality_loss: 0.4774 - val_wine_type_loss: 0.1538 - val_wine_quality_root_mean_squared_error: 0.6923 - val_wine_type_accuracy: 0.9480\n",
      "Epoch 34/180\n",
      "3155/3155 [==============================] - 0s 77us/sample - loss: 0.6252 - wine_quality_loss: 0.4648 - wine_type_loss: 0.1601 - wine_quality_root_mean_squared_error: 0.6817 - wine_type_accuracy: 0.9420 - val_loss: 0.5229 - val_wine_quality_loss: 0.3707 - val_wine_type_loss: 0.1519 - val_wine_quality_root_mean_squared_error: 0.6094 - val_wine_type_accuracy: 0.9493\n",
      "Epoch 35/180\n",
      "3155/3155 [==============================] - 0s 91us/sample - loss: 0.6370 - wine_quality_loss: 0.4781 - wine_type_loss: 0.1586 - wine_quality_root_mean_squared_error: 0.6914 - wine_type_accuracy: 0.9423 - val_loss: 0.6944 - val_wine_quality_loss: 0.5383 - val_wine_type_loss: 0.1573 - val_wine_quality_root_mean_squared_error: 0.7331 - val_wine_type_accuracy: 0.9392\n",
      "Epoch 36/180\n",
      "3155/3155 [==============================] - 0s 92us/sample - loss: 0.6366 - wine_quality_loss: 0.4782 - wine_type_loss: 0.1588 - wine_quality_root_mean_squared_error: 0.6914 - wine_type_accuracy: 0.9423 - val_loss: 0.5747 - val_wine_quality_loss: 0.4238 - val_wine_type_loss: 0.1514 - val_wine_quality_root_mean_squared_error: 0.6509 - val_wine_type_accuracy: 0.9480\n",
      "Epoch 37/180\n",
      "3155/3155 [==============================] - 0s 93us/sample - loss: 0.6177 - wine_quality_loss: 0.4597 - wine_type_loss: 0.1580 - wine_quality_root_mean_squared_error: 0.6783 - wine_type_accuracy: 0.9429 - val_loss: 0.5427 - val_wine_quality_loss: 0.3928 - val_wine_type_loss: 0.1500 - val_wine_quality_root_mean_squared_error: 0.6269 - val_wine_type_accuracy: 0.9480\n",
      "Epoch 38/180\n",
      "3155/3155 [==============================] - 0s 93us/sample - loss: 0.6050 - wine_quality_loss: 0.4493 - wine_type_loss: 0.1553 - wine_quality_root_mean_squared_error: 0.6705 - wine_type_accuracy: 0.9420 - val_loss: 0.7077 - val_wine_quality_loss: 0.5592 - val_wine_type_loss: 0.1468 - val_wine_quality_root_mean_squared_error: 0.7492 - val_wine_type_accuracy: 0.9518\n",
      "Epoch 39/180\n",
      "3155/3155 [==============================] - 0s 91us/sample - loss: 0.6155 - wine_quality_loss: 0.4598 - wine_type_loss: 0.1556 - wine_quality_root_mean_squared_error: 0.6783 - wine_type_accuracy: 0.9420 - val_loss: 0.5613 - val_wine_quality_loss: 0.4111 - val_wine_type_loss: 0.1490 - val_wine_quality_root_mean_squared_error: 0.6423 - val_wine_type_accuracy: 0.9493\n",
      "Epoch 40/180\n",
      "3155/3155 [==============================] - 0s 75us/sample - loss: 0.6192 - wine_quality_loss: 0.4650 - wine_type_loss: 0.1539 - wine_quality_root_mean_squared_error: 0.6822 - wine_type_accuracy: 0.9433 - val_loss: 0.5231 - val_wine_quality_loss: 0.3767 - val_wine_type_loss: 0.1462 - val_wine_quality_root_mean_squared_error: 0.6141 - val_wine_type_accuracy: 0.9506\n",
      "Epoch 41/180\n",
      "3155/3155 [==============================] - 0s 92us/sample - loss: 0.5968 - wine_quality_loss: 0.4433 - wine_type_loss: 0.1539 - wine_quality_root_mean_squared_error: 0.6656 - wine_type_accuracy: 0.9439 - val_loss: 0.7310 - val_wine_quality_loss: 0.5831 - val_wine_type_loss: 0.1459 - val_wine_quality_root_mean_squared_error: 0.7650 - val_wine_type_accuracy: 0.9506\n",
      "Epoch 42/180\n",
      "3155/3155 [==============================] - 0s 93us/sample - loss: 0.6202 - wine_quality_loss: 0.4697 - wine_type_loss: 0.1513 - wine_quality_root_mean_squared_error: 0.6845 - wine_type_accuracy: 0.9445 - val_loss: 0.7937 - val_wine_quality_loss: 0.6469 - val_wine_type_loss: 0.1446 - val_wine_quality_root_mean_squared_error: 0.8058 - val_wine_type_accuracy: 0.9493\n",
      "Epoch 43/180\n",
      "3155/3155 [==============================] - 0s 91us/sample - loss: 0.6057 - wine_quality_loss: 0.4543 - wine_type_loss: 0.1519 - wine_quality_root_mean_squared_error: 0.6738 - wine_type_accuracy: 0.9452 - val_loss: 0.5669 - val_wine_quality_loss: 0.4224 - val_wine_type_loss: 0.1430 - val_wine_quality_root_mean_squared_error: 0.6512 - val_wine_type_accuracy: 0.9493\n",
      "Epoch 44/180\n",
      "3155/3155 [==============================] - 0s 93us/sample - loss: 0.5877 - wine_quality_loss: 0.4380 - wine_type_loss: 0.1502 - wine_quality_root_mean_squared_error: 0.6614 - wine_type_accuracy: 0.9448 - val_loss: 0.8827 - val_wine_quality_loss: 0.7380 - val_wine_type_loss: 0.1426 - val_wine_quality_root_mean_squared_error: 0.8604 - val_wine_type_accuracy: 0.9506\n",
      "Epoch 45/180\n",
      "3155/3155 [==============================] - 0s 91us/sample - loss: 0.6126 - wine_quality_loss: 0.4641 - wine_type_loss: 0.1494 - wine_quality_root_mean_squared_error: 0.6806 - wine_type_accuracy: 0.9439 - val_loss: 0.5669 - val_wine_quality_loss: 0.4258 - val_wine_type_loss: 0.1418 - val_wine_quality_root_mean_squared_error: 0.6522 - val_wine_type_accuracy: 0.9506\n",
      "Epoch 46/180\n",
      "3155/3155 [==============================] - 0s 78us/sample - loss: 0.6157 - wine_quality_loss: 0.4672 - wine_type_loss: 0.1485 - wine_quality_root_mean_squared_error: 0.6838 - wine_type_accuracy: 0.9464 - val_loss: 0.5062 - val_wine_quality_loss: 0.3636 - val_wine_type_loss: 0.1420 - val_wine_quality_root_mean_squared_error: 0.6036 - val_wine_type_accuracy: 0.9506\n",
      "Epoch 47/180\n",
      "3155/3155 [==============================] - 0s 94us/sample - loss: 0.6045 - wine_quality_loss: 0.4568 - wine_type_loss: 0.1474 - wine_quality_root_mean_squared_error: 0.6758 - wine_type_accuracy: 0.9455 - val_loss: 0.5775 - val_wine_quality_loss: 0.4357 - val_wine_type_loss: 0.1403 - val_wine_quality_root_mean_squared_error: 0.6613 - val_wine_type_accuracy: 0.9518\n",
      "Epoch 48/180\n",
      "3155/3155 [==============================] - 0s 92us/sample - loss: 0.5972 - wine_quality_loss: 0.4508 - wine_type_loss: 0.1463 - wine_quality_root_mean_squared_error: 0.6716 - wine_type_accuracy: 0.9455 - val_loss: 0.5936 - val_wine_quality_loss: 0.4489 - val_wine_type_loss: 0.1431 - val_wine_quality_root_mean_squared_error: 0.6712 - val_wine_type_accuracy: 0.9480\n",
      "Epoch 49/180\n",
      "3155/3155 [==============================] - 0s 90us/sample - loss: 0.6047 - wine_quality_loss: 0.4585 - wine_type_loss: 0.1459 - wine_quality_root_mean_squared_error: 0.6772 - wine_type_accuracy: 0.9468 - val_loss: 0.6493 - val_wine_quality_loss: 0.5039 - val_wine_type_loss: 0.1437 - val_wine_quality_root_mean_squared_error: 0.7111 - val_wine_type_accuracy: 0.9506\n",
      "Epoch 50/180\n",
      "3155/3155 [==============================] - 0s 90us/sample - loss: 0.5953 - wine_quality_loss: 0.4507 - wine_type_loss: 0.1446 - wine_quality_root_mean_squared_error: 0.6713 - wine_type_accuracy: 0.9474 - val_loss: 1.0369 - val_wine_quality_loss: 0.8969 - val_wine_type_loss: 0.1434 - val_wine_quality_root_mean_squared_error: 0.9453 - val_wine_type_accuracy: 0.9493\n",
      "Epoch 51/180\n",
      "3155/3155 [==============================] - 0s 76us/sample - loss: 0.6093 - wine_quality_loss: 0.4680 - wine_type_loss: 0.1430 - wine_quality_root_mean_squared_error: 0.6825 - wine_type_accuracy: 0.9458 - val_loss: 1.1060 - val_wine_quality_loss: 0.9674 - val_wine_type_loss: 0.1365 - val_wine_quality_root_mean_squared_error: 0.9846 - val_wine_type_accuracy: 0.9506\n",
      "Epoch 52/180\n",
      "3155/3155 [==============================] - 0s 91us/sample - loss: 0.5925 - wine_quality_loss: 0.4485 - wine_type_loss: 0.1428 - wine_quality_root_mean_squared_error: 0.6702 - wine_type_accuracy: 0.9474 - val_loss: 0.5054 - val_wine_quality_loss: 0.3614 - val_wine_type_loss: 0.1432 - val_wine_quality_root_mean_squared_error: 0.6018 - val_wine_type_accuracy: 0.9493\n",
      "Epoch 53/180\n",
      "3155/3155 [==============================] - 0s 90us/sample - loss: 0.5931 - wine_quality_loss: 0.4507 - wine_type_loss: 0.1419 - wine_quality_root_mean_squared_error: 0.6715 - wine_type_accuracy: 0.9480 - val_loss: 0.7092 - val_wine_quality_loss: 0.5755 - val_wine_type_loss: 0.1357 - val_wine_quality_root_mean_squared_error: 0.7574 - val_wine_type_accuracy: 0.9531\n",
      "Epoch 54/180\n",
      "3155/3155 [==============================] - 0s 74us/sample - loss: 0.5976 - wine_quality_loss: 0.4561 - wine_type_loss: 0.1412 - wine_quality_root_mean_squared_error: 0.6755 - wine_type_accuracy: 0.9483 - val_loss: 0.5125 - val_wine_quality_loss: 0.3718 - val_wine_type_loss: 0.1402 - val_wine_quality_root_mean_squared_error: 0.6102 - val_wine_type_accuracy: 0.9493\n",
      "Epoch 55/180\n",
      "3155/3155 [==============================] - 0s 90us/sample - loss: 0.5842 - wine_quality_loss: 0.4433 - wine_type_loss: 0.1402 - wine_quality_root_mean_squared_error: 0.6663 - wine_type_accuracy: 0.9474 - val_loss: 0.5253 - val_wine_quality_loss: 0.3895 - val_wine_type_loss: 0.1345 - val_wine_quality_root_mean_squared_error: 0.6251 - val_wine_type_accuracy: 0.9518\n",
      "Epoch 56/180\n",
      "3155/3155 [==============================] - 0s 92us/sample - loss: 0.5913 - wine_quality_loss: 0.4511 - wine_type_loss: 0.1399 - wine_quality_root_mean_squared_error: 0.6716 - wine_type_accuracy: 0.9496 - val_loss: 0.5933 - val_wine_quality_loss: 0.4596 - val_wine_type_loss: 0.1346 - val_wine_quality_root_mean_squared_error: 0.6772 - val_wine_type_accuracy: 0.9506\n",
      "Epoch 57/180\n",
      "3155/3155 [==============================] - 0s 89us/sample - loss: 0.5792 - wine_quality_loss: 0.4400 - wine_type_loss: 0.1401 - wine_quality_root_mean_squared_error: 0.6634 - wine_type_accuracy: 0.9490 - val_loss: 0.6564 - val_wine_quality_loss: 0.5219 - val_wine_type_loss: 0.1326 - val_wine_quality_root_mean_squared_error: 0.7237 - val_wine_type_accuracy: 0.9556\n",
      "Epoch 58/180\n",
      "3155/3155 [==============================] - 0s 76us/sample - loss: 0.5978 - wine_quality_loss: 0.4598 - wine_type_loss: 0.1380 - wine_quality_root_mean_squared_error: 0.6778 - wine_type_accuracy: 0.9512 - val_loss: 0.5681 - val_wine_quality_loss: 0.4348 - val_wine_type_loss: 0.1338 - val_wine_quality_root_mean_squared_error: 0.6590 - val_wine_type_accuracy: 0.9506\n",
      "Epoch 59/180\n",
      "3155/3155 [==============================] - 0s 90us/sample - loss: 0.5877 - wine_quality_loss: 0.4507 - wine_type_loss: 0.1370 - wine_quality_root_mean_squared_error: 0.6718 - wine_type_accuracy: 0.9502 - val_loss: 0.5079 - val_wine_quality_loss: 0.3765 - val_wine_type_loss: 0.1313 - val_wine_quality_root_mean_squared_error: 0.6137 - val_wine_type_accuracy: 0.9506\n",
      "Epoch 60/180\n",
      "3155/3155 [==============================] - 0s 91us/sample - loss: 0.5725 - wine_quality_loss: 0.4345 - wine_type_loss: 0.1372 - wine_quality_root_mean_squared_error: 0.6596 - wine_type_accuracy: 0.9499 - val_loss: 0.5477 - val_wine_quality_loss: 0.4153 - val_wine_type_loss: 0.1308 - val_wine_quality_root_mean_squared_error: 0.6456 - val_wine_type_accuracy: 0.9556\n",
      "Epoch 61/180\n",
      "3155/3155 [==============================] - 0s 74us/sample - loss: 0.5917 - wine_quality_loss: 0.4554 - wine_type_loss: 0.1361 - wine_quality_root_mean_squared_error: 0.6751 - wine_type_accuracy: 0.9499 - val_loss: 0.7929 - val_wine_quality_loss: 0.6607 - val_wine_type_loss: 0.1301 - val_wine_quality_root_mean_squared_error: 0.8141 - val_wine_type_accuracy: 0.9569\n",
      "Epoch 62/180\n",
      "3155/3155 [==============================] - 0s 92us/sample - loss: 0.5848 - wine_quality_loss: 0.4489 - wine_type_loss: 0.1352 - wine_quality_root_mean_squared_error: 0.6705 - wine_type_accuracy: 0.9499 - val_loss: 0.6383 - val_wine_quality_loss: 0.5034 - val_wine_type_loss: 0.1359 - val_wine_quality_root_mean_squared_error: 0.7087 - val_wine_type_accuracy: 0.9493\n",
      "Epoch 63/180\n",
      "3155/3155 [==============================] - 0s 93us/sample - loss: 0.5617 - wine_quality_loss: 0.4263 - wine_type_loss: 0.1345 - wine_quality_root_mean_squared_error: 0.6533 - wine_type_accuracy: 0.9499 - val_loss: 0.5241 - val_wine_quality_loss: 0.3909 - val_wine_type_loss: 0.1319 - val_wine_quality_root_mean_squared_error: 0.6262 - val_wine_type_accuracy: 0.9518\n",
      "Epoch 64/180\n",
      "3155/3155 [==============================] - 0s 91us/sample - loss: 0.5873 - wine_quality_loss: 0.4533 - wine_type_loss: 0.1334 - wine_quality_root_mean_squared_error: 0.6739 - wine_type_accuracy: 0.9509 - val_loss: 0.5151 - val_wine_quality_loss: 0.3857 - val_wine_type_loss: 0.1280 - val_wine_quality_root_mean_squared_error: 0.6221 - val_wine_type_accuracy: 0.9556\n",
      "Epoch 65/180\n",
      "3155/3155 [==============================] - 0s 88us/sample - loss: 0.5830 - wine_quality_loss: 0.4499 - wine_type_loss: 0.1327 - wine_quality_root_mean_squared_error: 0.6707 - wine_type_accuracy: 0.9512 - val_loss: 0.6951 - val_wine_quality_loss: 0.5657 - val_wine_type_loss: 0.1272 - val_wine_quality_root_mean_squared_error: 0.7535 - val_wine_type_accuracy: 0.9569\n",
      "Epoch 66/180\n",
      "3155/3155 [==============================] - 0s 76us/sample - loss: 0.5761 - wine_quality_loss: 0.4446 - wine_type_loss: 0.1333 - wine_quality_root_mean_squared_error: 0.6663 - wine_type_accuracy: 0.9515 - val_loss: 0.6108 - val_wine_quality_loss: 0.4840 - val_wine_type_loss: 0.1275 - val_wine_quality_root_mean_squared_error: 0.6951 - val_wine_type_accuracy: 0.9544\n",
      "Epoch 67/180\n",
      "3155/3155 [==============================] - 0s 92us/sample - loss: 0.5678 - wine_quality_loss: 0.4359 - wine_type_loss: 0.1313 - wine_quality_root_mean_squared_error: 0.6606 - wine_type_accuracy: 0.9512 - val_loss: 0.5153 - val_wine_quality_loss: 0.3864 - val_wine_type_loss: 0.1290 - val_wine_quality_root_mean_squared_error: 0.6216 - val_wine_type_accuracy: 0.9594\n",
      "Epoch 68/180\n",
      "3155/3155 [==============================] - 0s 91us/sample - loss: 0.5685 - wine_quality_loss: 0.4372 - wine_type_loss: 0.1327 - wine_quality_root_mean_squared_error: 0.6612 - wine_type_accuracy: 0.9506 - val_loss: 0.5051 - val_wine_quality_loss: 0.3803 - val_wine_type_loss: 0.1248 - val_wine_quality_root_mean_squared_error: 0.6167 - val_wine_type_accuracy: 0.9569\n",
      "Epoch 69/180\n",
      "3155/3155 [==============================] - 0s 92us/sample - loss: 0.5644 - wine_quality_loss: 0.4337 - wine_type_loss: 0.1303 - wine_quality_root_mean_squared_error: 0.6592 - wine_type_accuracy: 0.9502 - val_loss: 0.5230 - val_wine_quality_loss: 0.3931 - val_wine_type_loss: 0.1285 - val_wine_quality_root_mean_squared_error: 0.6281 - val_wine_type_accuracy: 0.9620\n",
      "Epoch 70/180\n",
      "3155/3155 [==============================] - 0s 93us/sample - loss: 0.5598 - wine_quality_loss: 0.4311 - wine_type_loss: 0.1286 - wine_quality_root_mean_squared_error: 0.6563 - wine_type_accuracy: 0.9515 - val_loss: 0.6860 - val_wine_quality_loss: 0.5595 - val_wine_type_loss: 0.1247 - val_wine_quality_root_mean_squared_error: 0.7492 - val_wine_type_accuracy: 0.9594\n",
      "Epoch 71/180\n",
      "3155/3155 [==============================] - 0s 78us/sample - loss: 0.5561 - wine_quality_loss: 0.4268 - wine_type_loss: 0.1289 - wine_quality_root_mean_squared_error: 0.6537 - wine_type_accuracy: 0.9534 - val_loss: 0.5057 - val_wine_quality_loss: 0.3779 - val_wine_type_loss: 0.1271 - val_wine_quality_root_mean_squared_error: 0.6151 - val_wine_type_accuracy: 0.9506\n",
      "Epoch 72/180\n",
      "3155/3155 [==============================] - 0s 94us/sample - loss: 0.5718 - wine_quality_loss: 0.4444 - wine_type_loss: 0.1279 - wine_quality_root_mean_squared_error: 0.6661 - wine_type_accuracy: 0.9515 - val_loss: 1.1425 - val_wine_quality_loss: 1.0176 - val_wine_type_loss: 0.1278 - val_wine_quality_root_mean_squared_error: 1.0072 - val_wine_type_accuracy: 0.9518\n",
      "Epoch 73/180\n",
      "3155/3155 [==============================] - 0s 94us/sample - loss: 0.5641 - wine_quality_loss: 0.4366 - wine_type_loss: 0.1269 - wine_quality_root_mean_squared_error: 0.6613 - wine_type_accuracy: 0.9531 - val_loss: 0.5071 - val_wine_quality_loss: 0.3832 - val_wine_type_loss: 0.1235 - val_wine_quality_root_mean_squared_error: 0.6192 - val_wine_type_accuracy: 0.9544\n",
      "Epoch 74/180\n",
      "3155/3155 [==============================] - 0s 92us/sample - loss: 0.5558 - wine_quality_loss: 0.4315 - wine_type_loss: 0.1270 - wine_quality_root_mean_squared_error: 0.6548 - wine_type_accuracy: 0.9531 - val_loss: 0.8096 - val_wine_quality_loss: 0.6871 - val_wine_type_loss: 0.1236 - val_wine_quality_root_mean_squared_error: 0.8281 - val_wine_type_accuracy: 0.9544\n",
      "Epoch 75/180\n",
      "3155/3155 [==============================] - 0s 91us/sample - loss: 0.5603 - wine_quality_loss: 0.4351 - wine_type_loss: 0.1257 - wine_quality_root_mean_squared_error: 0.6591 - wine_type_accuracy: 0.9515 - val_loss: 0.4810 - val_wine_quality_loss: 0.3568 - val_wine_type_loss: 0.1231 - val_wine_quality_root_mean_squared_error: 0.5981 - val_wine_type_accuracy: 0.9544\n",
      "Epoch 76/180\n",
      "3155/3155 [==============================] - 0s 92us/sample - loss: 0.5649 - wine_quality_loss: 0.4394 - wine_type_loss: 0.1257 - wine_quality_root_mean_squared_error: 0.6631 - wine_type_accuracy: 0.9537 - val_loss: 0.4868 - val_wine_quality_loss: 0.3656 - val_wine_type_loss: 0.1207 - val_wine_quality_root_mean_squared_error: 0.6049 - val_wine_type_accuracy: 0.9594\n",
      "Epoch 77/180\n",
      "3155/3155 [==============================] - 0s 91us/sample - loss: 0.5562 - wine_quality_loss: 0.4319 - wine_type_loss: 0.1245 - wine_quality_root_mean_squared_error: 0.6568 - wine_type_accuracy: 0.9537 - val_loss: 0.8318 - val_wine_quality_loss: 0.7120 - val_wine_type_loss: 0.1220 - val_wine_quality_root_mean_squared_error: 0.8423 - val_wine_type_accuracy: 0.9544\n",
      "Epoch 78/180\n",
      "3155/3155 [==============================] - 0s 79us/sample - loss: 0.5558 - wine_quality_loss: 0.4306 - wine_type_loss: 0.1240 - wine_quality_root_mean_squared_error: 0.6569 - wine_type_accuracy: 0.9547 - val_loss: 0.5317 - val_wine_quality_loss: 0.4109 - val_wine_type_loss: 0.1204 - val_wine_quality_root_mean_squared_error: 0.6411 - val_wine_type_accuracy: 0.9556\n",
      "Epoch 79/180\n",
      "3155/3155 [==============================] - 0s 77us/sample - loss: 0.5469 - wine_quality_loss: 0.4224 - wine_type_loss: 0.1238 - wine_quality_root_mean_squared_error: 0.6503 - wine_type_accuracy: 0.9553 - val_loss: 0.6095 - val_wine_quality_loss: 0.4853 - val_wine_type_loss: 0.1223 - val_wine_quality_root_mean_squared_error: 0.6978 - val_wine_type_accuracy: 0.9518\n",
      "Epoch 80/180\n",
      "3155/3155 [==============================] - 0s 93us/sample - loss: 0.5575 - wine_quality_loss: 0.4362 - wine_type_loss: 0.1213 - wine_quality_root_mean_squared_error: 0.6606 - wine_type_accuracy: 0.9563 - val_loss: 0.4785 - val_wine_quality_loss: 0.3556 - val_wine_type_loss: 0.1217 - val_wine_quality_root_mean_squared_error: 0.5972 - val_wine_type_accuracy: 0.9645\n",
      "Epoch 81/180\n",
      "3155/3155 [==============================] - 0s 93us/sample - loss: 0.5485 - wine_quality_loss: 0.4262 - wine_type_loss: 0.1217 - wine_quality_root_mean_squared_error: 0.6531 - wine_type_accuracy: 0.9559 - val_loss: 0.5875 - val_wine_quality_loss: 0.4662 - val_wine_type_loss: 0.1194 - val_wine_quality_root_mean_squared_error: 0.6839 - val_wine_type_accuracy: 0.9544\n",
      "Epoch 82/180\n",
      "3155/3155 [==============================] - 0s 91us/sample - loss: 0.5504 - wine_quality_loss: 0.4304 - wine_type_loss: 0.1212 - wine_quality_root_mean_squared_error: 0.6548 - wine_type_accuracy: 0.9550 - val_loss: 0.7192 - val_wine_quality_loss: 0.5958 - val_wine_type_loss: 0.1211 - val_wine_quality_root_mean_squared_error: 0.7732 - val_wine_type_accuracy: 0.9544\n",
      "Epoch 83/180\n",
      "3155/3155 [==============================] - 0s 92us/sample - loss: 0.5484 - wine_quality_loss: 0.4273 - wine_type_loss: 0.1211 - wine_quality_root_mean_squared_error: 0.6535 - wine_type_accuracy: 0.9569 - val_loss: 0.5346 - val_wine_quality_loss: 0.4113 - val_wine_type_loss: 0.1217 - val_wine_quality_root_mean_squared_error: 0.6423 - val_wine_type_accuracy: 0.9518\n",
      "Epoch 84/180\n",
      "3155/3155 [==============================] - 0s 77us/sample - loss: 0.5550 - wine_quality_loss: 0.4346 - wine_type_loss: 0.1200 - wine_quality_root_mean_squared_error: 0.6594 - wine_type_accuracy: 0.9537 - val_loss: 0.5506 - val_wine_quality_loss: 0.4343 - val_wine_type_loss: 0.1167 - val_wine_quality_root_mean_squared_error: 0.6585 - val_wine_type_accuracy: 0.9582\n",
      "Epoch 85/180\n",
      "3155/3155 [==============================] - 0s 92us/sample - loss: 0.5449 - wine_quality_loss: 0.4247 - wine_type_loss: 0.1202 - wine_quality_root_mean_squared_error: 0.6517 - wine_type_accuracy: 0.9544 - val_loss: 0.7113 - val_wine_quality_loss: 0.5950 - val_wine_type_loss: 0.1178 - val_wine_quality_root_mean_squared_error: 0.7702 - val_wine_type_accuracy: 0.9582\n",
      "Epoch 86/180\n",
      "3155/3155 [==============================] - 0s 94us/sample - loss: 0.5581 - wine_quality_loss: 0.4389 - wine_type_loss: 0.1189 - wine_quality_root_mean_squared_error: 0.6627 - wine_type_accuracy: 0.9566 - val_loss: 0.5100 - val_wine_quality_loss: 0.3874 - val_wine_type_loss: 0.1208 - val_wine_quality_root_mean_squared_error: 0.6235 - val_wine_type_accuracy: 0.9544\n",
      "Epoch 87/180\n",
      "3155/3155 [==============================] - 0s 94us/sample - loss: 0.5496 - wine_quality_loss: 0.4309 - wine_type_loss: 0.1185 - wine_quality_root_mean_squared_error: 0.6564 - wine_type_accuracy: 0.9578 - val_loss: 0.5670 - val_wine_quality_loss: 0.4498 - val_wine_type_loss: 0.1173 - val_wine_quality_root_mean_squared_error: 0.6703 - val_wine_type_accuracy: 0.9556\n",
      "Epoch 88/180\n",
      "3155/3155 [==============================] - 0s 93us/sample - loss: 0.5438 - wine_quality_loss: 0.4266 - wine_type_loss: 0.1194 - wine_quality_root_mean_squared_error: 0.6529 - wine_type_accuracy: 0.9563 - val_loss: 0.7372 - val_wine_quality_loss: 0.6235 - val_wine_type_loss: 0.1156 - val_wine_quality_root_mean_squared_error: 0.7883 - val_wine_type_accuracy: 0.9658\n",
      "Epoch 89/180\n",
      "3155/3155 [==============================] - 0s 92us/sample - loss: 0.5396 - wine_quality_loss: 0.4220 - wine_type_loss: 0.1175 - wine_quality_root_mean_squared_error: 0.6495 - wine_type_accuracy: 0.9575 - val_loss: 1.2518 - val_wine_quality_loss: 1.1398 - val_wine_type_loss: 0.1163 - val_wine_quality_root_mean_squared_error: 1.0654 - val_wine_type_accuracy: 0.9582\n",
      "Epoch 90/180\n",
      "3155/3155 [==============================] - 0s 90us/sample - loss: 0.5479 - wine_quality_loss: 0.4320 - wine_type_loss: 0.1152 - wine_quality_root_mean_squared_error: 0.6576 - wine_type_accuracy: 0.9610 - val_loss: 0.4865 - val_wine_quality_loss: 0.3593 - val_wine_type_loss: 0.1263 - val_wine_quality_root_mean_squared_error: 0.5999 - val_wine_type_accuracy: 0.9518\n",
      "Epoch 91/180\n",
      "3155/3155 [==============================] - 0s 78us/sample - loss: 0.5316 - wine_quality_loss: 0.4156 - wine_type_loss: 0.1156 - wine_quality_root_mean_squared_error: 0.6448 - wine_type_accuracy: 0.9597 - val_loss: 0.5093 - val_wine_quality_loss: 0.3918 - val_wine_type_loss: 0.1159 - val_wine_quality_root_mean_squared_error: 0.6270 - val_wine_type_accuracy: 0.9658\n",
      "Epoch 92/180\n",
      "3155/3155 [==============================] - 0s 80us/sample - loss: 0.5454 - wine_quality_loss: 0.4313 - wine_type_loss: 0.1133 - wine_quality_root_mean_squared_error: 0.6570 - wine_type_accuracy: 0.9604 - val_loss: 0.5154 - val_wine_quality_loss: 0.3957 - val_wine_type_loss: 0.1180 - val_wine_quality_root_mean_squared_error: 0.6302 - val_wine_type_accuracy: 0.9531\n",
      "Epoch 93/180\n",
      "3155/3155 [==============================] - 0s 89us/sample - loss: 0.5282 - wine_quality_loss: 0.4134 - wine_type_loss: 0.1146 - wine_quality_root_mean_squared_error: 0.6429 - wine_type_accuracy: 0.9578 - val_loss: 0.7526 - val_wine_quality_loss: 0.6414 - val_wine_type_loss: 0.1124 - val_wine_quality_root_mean_squared_error: 0.7999 - val_wine_type_accuracy: 0.9632\n",
      "Epoch 94/180\n",
      "3155/3155 [==============================] - 0s 94us/sample - loss: 0.5451 - wine_quality_loss: 0.4337 - wine_type_loss: 0.1136 - wine_quality_root_mean_squared_error: 0.6568 - wine_type_accuracy: 0.9601 - val_loss: 1.1870 - val_wine_quality_loss: 1.0731 - val_wine_type_loss: 0.1122 - val_wine_quality_root_mean_squared_error: 1.0366 - val_wine_type_accuracy: 0.9594\n",
      "Epoch 95/180\n",
      "3155/3155 [==============================] - 0s 93us/sample - loss: 0.5379 - wine_quality_loss: 0.4253 - wine_type_loss: 0.1143 - wine_quality_root_mean_squared_error: 0.6507 - wine_type_accuracy: 0.9610 - val_loss: 0.5895 - val_wine_quality_loss: 0.4770 - val_wine_type_loss: 0.1126 - val_wine_quality_root_mean_squared_error: 0.6903 - val_wine_type_accuracy: 0.9632\n",
      "Epoch 96/180\n",
      "3155/3155 [==============================] - 0s 93us/sample - loss: 0.5378 - wine_quality_loss: 0.4273 - wine_type_loss: 0.1126 - wine_quality_root_mean_squared_error: 0.6521 - wine_type_accuracy: 0.9616 - val_loss: 0.8863 - val_wine_quality_loss: 0.7643 - val_wine_type_loss: 0.1198 - val_wine_quality_root_mean_squared_error: 0.8755 - val_wine_type_accuracy: 0.9658\n",
      "Epoch 97/180\n",
      "3155/3155 [==============================] - 0s 91us/sample - loss: 0.5316 - wine_quality_loss: 0.4193 - wine_type_loss: 0.1126 - wine_quality_root_mean_squared_error: 0.6476 - wine_type_accuracy: 0.9620 - val_loss: 0.4913 - val_wine_quality_loss: 0.3794 - val_wine_type_loss: 0.1115 - val_wine_quality_root_mean_squared_error: 0.6160 - val_wine_type_accuracy: 0.9632\n",
      "Epoch 98/180\n",
      "3155/3155 [==============================] - 0s 76us/sample - loss: 0.5520 - wine_quality_loss: 0.4388 - wine_type_loss: 0.1123 - wine_quality_root_mean_squared_error: 0.6631 - wine_type_accuracy: 0.9601 - val_loss: 0.4672 - val_wine_quality_loss: 0.3555 - val_wine_type_loss: 0.1105 - val_wine_quality_root_mean_squared_error: 0.5969 - val_wine_type_accuracy: 0.9632\n",
      "Epoch 99/180\n",
      "3155/3155 [==============================] - 0s 92us/sample - loss: 0.5335 - wine_quality_loss: 0.4217 - wine_type_loss: 0.1122 - wine_quality_root_mean_squared_error: 0.6488 - wine_type_accuracy: 0.9626 - val_loss: 0.8396 - val_wine_quality_loss: 0.7304 - val_wine_type_loss: 0.1106 - val_wine_quality_root_mean_squared_error: 0.8535 - val_wine_type_accuracy: 0.9607\n",
      "Epoch 100/180\n",
      "3155/3155 [==============================] - 0s 94us/sample - loss: 0.5353 - wine_quality_loss: 0.4253 - wine_type_loss: 0.1096 - wine_quality_root_mean_squared_error: 0.6522 - wine_type_accuracy: 0.9620 - val_loss: 0.5007 - val_wine_quality_loss: 0.3898 - val_wine_type_loss: 0.1091 - val_wine_quality_root_mean_squared_error: 0.6255 - val_wine_type_accuracy: 0.9632\n",
      "Epoch 101/180\n",
      "3155/3155 [==============================] - 0s 90us/sample - loss: 0.5387 - wine_quality_loss: 0.4281 - wine_type_loss: 0.1100 - wine_quality_root_mean_squared_error: 0.6548 - wine_type_accuracy: 0.9607 - val_loss: 0.5307 - val_wine_quality_loss: 0.4198 - val_wine_type_loss: 0.1091 - val_wine_quality_root_mean_squared_error: 0.6490 - val_wine_type_accuracy: 0.9658\n",
      "Epoch 102/180\n",
      "3155/3155 [==============================] - 0s 90us/sample - loss: 0.5397 - wine_quality_loss: 0.4303 - wine_type_loss: 0.1098 - wine_quality_root_mean_squared_error: 0.6555 - wine_type_accuracy: 0.9610 - val_loss: 0.6569 - val_wine_quality_loss: 0.5386 - val_wine_type_loss: 0.1185 - val_wine_quality_root_mean_squared_error: 0.7334 - val_wine_type_accuracy: 0.9544\n",
      "Epoch 103/180\n",
      "3155/3155 [==============================] - 0s 76us/sample - loss: 0.5352 - wine_quality_loss: 0.4246 - wine_type_loss: 0.1112 - wine_quality_root_mean_squared_error: 0.6517 - wine_type_accuracy: 0.9620 - val_loss: 0.4801 - val_wine_quality_loss: 0.3696 - val_wine_type_loss: 0.1089 - val_wine_quality_root_mean_squared_error: 0.6089 - val_wine_type_accuracy: 0.9620\n",
      "Epoch 104/180\n",
      "3155/3155 [==============================] - 0s 92us/sample - loss: 0.5279 - wine_quality_loss: 0.4185 - wine_type_loss: 0.1087 - wine_quality_root_mean_squared_error: 0.6474 - wine_type_accuracy: 0.9623 - val_loss: 0.4844 - val_wine_quality_loss: 0.3737 - val_wine_type_loss: 0.1091 - val_wine_quality_root_mean_squared_error: 0.6123 - val_wine_type_accuracy: 0.9658\n",
      "Epoch 105/180\n",
      "3155/3155 [==============================] - 0s 93us/sample - loss: 0.5271 - wine_quality_loss: 0.4220 - wine_type_loss: 0.1078 - wine_quality_root_mean_squared_error: 0.6474 - wine_type_accuracy: 0.9642 - val_loss: 0.7532 - val_wine_quality_loss: 0.6403 - val_wine_type_loss: 0.1107 - val_wine_quality_root_mean_squared_error: 0.8013 - val_wine_type_accuracy: 0.9582\n",
      "Epoch 106/180\n",
      "3155/3155 [==============================] - 0s 91us/sample - loss: 0.5231 - wine_quality_loss: 0.4154 - wine_type_loss: 0.1073 - wine_quality_root_mean_squared_error: 0.6446 - wine_type_accuracy: 0.9661 - val_loss: 0.6205 - val_wine_quality_loss: 0.5123 - val_wine_type_loss: 0.1061 - val_wine_quality_root_mean_squared_error: 0.7170 - val_wine_type_accuracy: 0.9683\n",
      "Epoch 107/180\n",
      "3155/3155 [==============================] - 0s 91us/sample - loss: 0.5181 - wine_quality_loss: 0.4106 - wine_type_loss: 0.1072 - wine_quality_root_mean_squared_error: 0.6415 - wine_type_accuracy: 0.9645 - val_loss: 0.4986 - val_wine_quality_loss: 0.3869 - val_wine_type_loss: 0.1106 - val_wine_quality_root_mean_squared_error: 0.6225 - val_wine_type_accuracy: 0.9582\n",
      "Epoch 108/180\n",
      "3155/3155 [==============================] - 0s 76us/sample - loss: 0.5193 - wine_quality_loss: 0.4117 - wine_type_loss: 0.1070 - wine_quality_root_mean_squared_error: 0.6421 - wine_type_accuracy: 0.9648 - val_loss: 0.5058 - val_wine_quality_loss: 0.3990 - val_wine_type_loss: 0.1064 - val_wine_quality_root_mean_squared_error: 0.6316 - val_wine_type_accuracy: 0.9670\n",
      "Epoch 109/180\n",
      "3155/3155 [==============================] - 0s 92us/sample - loss: 0.5223 - wine_quality_loss: 0.4161 - wine_type_loss: 0.1056 - wine_quality_root_mean_squared_error: 0.6452 - wine_type_accuracy: 0.9645 - val_loss: 0.5328 - val_wine_quality_loss: 0.4267 - val_wine_type_loss: 0.1058 - val_wine_quality_root_mean_squared_error: 0.6531 - val_wine_type_accuracy: 0.9658\n",
      "Epoch 110/180\n",
      "3155/3155 [==============================] - 0s 94us/sample - loss: 0.5255 - wine_quality_loss: 0.4197 - wine_type_loss: 0.1060 - wine_quality_root_mean_squared_error: 0.6477 - wine_type_accuracy: 0.9648 - val_loss: 0.4627 - val_wine_quality_loss: 0.3563 - val_wine_type_loss: 0.1050 - val_wine_quality_root_mean_squared_error: 0.5978 - val_wine_type_accuracy: 0.9670\n",
      "Epoch 111/180\n",
      "3155/3155 [==============================] - 0s 91us/sample - loss: 0.5326 - wine_quality_loss: 0.4269 - wine_type_loss: 0.1051 - wine_quality_root_mean_squared_error: 0.6537 - wine_type_accuracy: 0.9632 - val_loss: 0.4619 - val_wine_quality_loss: 0.3546 - val_wine_type_loss: 0.1058 - val_wine_quality_root_mean_squared_error: 0.5963 - val_wine_type_accuracy: 0.9658\n",
      "Epoch 112/180\n",
      "3155/3155 [==============================] - 0s 91us/sample - loss: 0.5199 - wine_quality_loss: 0.4167 - wine_type_loss: 0.1045 - wine_quality_root_mean_squared_error: 0.6443 - wine_type_accuracy: 0.9658 - val_loss: 0.6580 - val_wine_quality_loss: 0.5526 - val_wine_type_loss: 0.1061 - val_wine_quality_root_mean_squared_error: 0.7426 - val_wine_type_accuracy: 0.9632\n",
      "Epoch 113/180\n",
      "3155/3155 [==============================] - 0s 91us/sample - loss: 0.5197 - wine_quality_loss: 0.4165 - wine_type_loss: 0.1033 - wine_quality_root_mean_squared_error: 0.6451 - wine_type_accuracy: 0.9664 - val_loss: 0.5673 - val_wine_quality_loss: 0.4602 - val_wine_type_loss: 0.1072 - val_wine_quality_root_mean_squared_error: 0.6779 - val_wine_type_accuracy: 0.9607\n",
      "Epoch 114/180\n",
      "3155/3155 [==============================] - 0s 78us/sample - loss: 0.5265 - wine_quality_loss: 0.4227 - wine_type_loss: 0.1035 - wine_quality_root_mean_squared_error: 0.6504 - wine_type_accuracy: 0.9670 - val_loss: 0.4902 - val_wine_quality_loss: 0.3842 - val_wine_type_loss: 0.1053 - val_wine_quality_root_mean_squared_error: 0.6200 - val_wine_type_accuracy: 0.9658\n",
      "Epoch 115/180\n",
      "3155/3155 [==============================] - 0s 91us/sample - loss: 0.5286 - wine_quality_loss: 0.4255 - wine_type_loss: 0.1032 - wine_quality_root_mean_squared_error: 0.6522 - wine_type_accuracy: 0.9670 - val_loss: 0.5629 - val_wine_quality_loss: 0.4573 - val_wine_type_loss: 0.1034 - val_wine_quality_root_mean_squared_error: 0.6775 - val_wine_type_accuracy: 0.9696\n",
      "Epoch 116/180\n",
      "3155/3155 [==============================] - 0s 92us/sample - loss: 0.5173 - wine_quality_loss: 0.4143 - wine_type_loss: 0.1029 - wine_quality_root_mean_squared_error: 0.6437 - wine_type_accuracy: 0.9680 - val_loss: 0.9335 - val_wine_quality_loss: 0.8240 - val_wine_type_loss: 0.1069 - val_wine_quality_root_mean_squared_error: 0.9089 - val_wine_type_accuracy: 0.9582\n",
      "Epoch 117/180\n",
      "3155/3155 [==============================] - 0s 90us/sample - loss: 0.5128 - wine_quality_loss: 0.4112 - wine_type_loss: 0.1021 - wine_quality_root_mean_squared_error: 0.6407 - wine_type_accuracy: 0.9635 - val_loss: 0.6046 - val_wine_quality_loss: 0.5029 - val_wine_type_loss: 0.1023 - val_wine_quality_root_mean_squared_error: 0.7084 - val_wine_type_accuracy: 0.9696\n",
      "Epoch 118/180\n",
      "3155/3155 [==============================] - 0s 75us/sample - loss: 0.5275 - wine_quality_loss: 0.4253 - wine_type_loss: 0.1018 - wine_quality_root_mean_squared_error: 0.6524 - wine_type_accuracy: 0.9664 - val_loss: 0.4570 - val_wine_quality_loss: 0.3532 - val_wine_type_loss: 0.1023 - val_wine_quality_root_mean_squared_error: 0.5951 - val_wine_type_accuracy: 0.9670\n",
      "Epoch 119/180\n",
      "3155/3155 [==============================] - 0s 91us/sample - loss: 0.5196 - wine_quality_loss: 0.4183 - wine_type_loss: 0.1008 - wine_quality_root_mean_squared_error: 0.6470 - wine_type_accuracy: 0.9696 - val_loss: 0.4878 - val_wine_quality_loss: 0.3840 - val_wine_type_loss: 0.1019 - val_wine_quality_root_mean_squared_error: 0.6208 - val_wine_type_accuracy: 0.9683\n",
      "Epoch 120/180\n",
      "3155/3155 [==============================] - 0s 92us/sample - loss: 0.5113 - wine_quality_loss: 0.4109 - wine_type_loss: 0.1001 - wine_quality_root_mean_squared_error: 0.6412 - wine_type_accuracy: 0.9683 - val_loss: 0.4964 - val_wine_quality_loss: 0.3915 - val_wine_type_loss: 0.1030 - val_wine_quality_root_mean_squared_error: 0.6268 - val_wine_type_accuracy: 0.9670\n",
      "Epoch 121/180\n",
      "3155/3155 [==============================] - 0s 92us/sample - loss: 0.5132 - wine_quality_loss: 0.4133 - wine_type_loss: 0.0999 - wine_quality_root_mean_squared_error: 0.6426 - wine_type_accuracy: 0.9689 - val_loss: 0.4570 - val_wine_quality_loss: 0.3551 - val_wine_type_loss: 0.1010 - val_wine_quality_root_mean_squared_error: 0.5963 - val_wine_type_accuracy: 0.9696\n",
      "Epoch 122/180\n",
      "3155/3155 [==============================] - 0s 92us/sample - loss: 0.5038 - wine_quality_loss: 0.4034 - wine_type_loss: 0.0996 - wine_quality_root_mean_squared_error: 0.6355 - wine_type_accuracy: 0.9680 - val_loss: 0.4756 - val_wine_quality_loss: 0.3711 - val_wine_type_loss: 0.1028 - val_wine_quality_root_mean_squared_error: 0.6102 - val_wine_type_accuracy: 0.9658\n",
      "Epoch 123/180\n",
      "3155/3155 [==============================] - 0s 77us/sample - loss: 0.5193 - wine_quality_loss: 0.4200 - wine_type_loss: 0.0982 - wine_quality_root_mean_squared_error: 0.6489 - wine_type_accuracy: 0.9699 - val_loss: 0.4616 - val_wine_quality_loss: 0.3592 - val_wine_type_loss: 0.1014 - val_wine_quality_root_mean_squared_error: 0.5997 - val_wine_type_accuracy: 0.9670\n",
      "Epoch 124/180\n",
      "3155/3155 [==============================] - 0s 92us/sample - loss: 0.5098 - wine_quality_loss: 0.4112 - wine_type_loss: 0.0990 - wine_quality_root_mean_squared_error: 0.6410 - wine_type_accuracy: 0.9683 - val_loss: 0.5209 - val_wine_quality_loss: 0.4186 - val_wine_type_loss: 0.1002 - val_wine_quality_root_mean_squared_error: 0.6482 - val_wine_type_accuracy: 0.9721\n",
      "Epoch 125/180\n",
      "3155/3155 [==============================] - 0s 93us/sample - loss: 0.5002 - wine_quality_loss: 0.4019 - wine_type_loss: 0.0981 - wine_quality_root_mean_squared_error: 0.6341 - wine_type_accuracy: 0.9686 - val_loss: 0.5695 - val_wine_quality_loss: 0.4680 - val_wine_type_loss: 0.0991 - val_wine_quality_root_mean_squared_error: 0.6855 - val_wine_type_accuracy: 0.9696\n",
      "Epoch 126/180\n",
      "3155/3155 [==============================] - 0s 92us/sample - loss: 0.5011 - wine_quality_loss: 0.4032 - wine_type_loss: 0.0973 - wine_quality_root_mean_squared_error: 0.6352 - wine_type_accuracy: 0.9683 - val_loss: 0.4826 - val_wine_quality_loss: 0.3774 - val_wine_type_loss: 0.1033 - val_wine_quality_root_mean_squared_error: 0.6154 - val_wine_type_accuracy: 0.9620\n",
      "Epoch 127/180\n",
      "3155/3155 [==============================] - 0s 91us/sample - loss: 0.5072 - wine_quality_loss: 0.4098 - wine_type_loss: 0.0969 - wine_quality_root_mean_squared_error: 0.6404 - wine_type_accuracy: 0.9683 - val_loss: 0.5194 - val_wine_quality_loss: 0.4125 - val_wine_type_loss: 0.1068 - val_wine_quality_root_mean_squared_error: 0.6419 - val_wine_type_accuracy: 0.9594\n",
      "Epoch 128/180\n",
      "3155/3155 [==============================] - 0s 94us/sample - loss: 0.5062 - wine_quality_loss: 0.4093 - wine_type_loss: 0.0970 - wine_quality_root_mean_squared_error: 0.6398 - wine_type_accuracy: 0.9696 - val_loss: 0.5662 - val_wine_quality_loss: 0.4671 - val_wine_type_loss: 0.0992 - val_wine_quality_root_mean_squared_error: 0.6830 - val_wine_type_accuracy: 0.9721\n",
      "Epoch 129/180\n",
      "3155/3155 [==============================] - 0s 91us/sample - loss: 0.5146 - wine_quality_loss: 0.4188 - wine_type_loss: 0.0965 - wine_quality_root_mean_squared_error: 0.6466 - wine_type_accuracy: 0.9693 - val_loss: 0.5056 - val_wine_quality_loss: 0.4071 - val_wine_type_loss: 0.0979 - val_wine_quality_root_mean_squared_error: 0.6381 - val_wine_type_accuracy: 0.9696\n",
      "Epoch 130/180\n",
      "3155/3155 [==============================] - 0s 76us/sample - loss: 0.5049 - wine_quality_loss: 0.4098 - wine_type_loss: 0.0951 - wine_quality_root_mean_squared_error: 0.6400 - wine_type_accuracy: 0.9696 - val_loss: 0.5070 - val_wine_quality_loss: 0.4071 - val_wine_type_loss: 0.0979 - val_wine_quality_root_mean_squared_error: 0.6392 - val_wine_type_accuracy: 0.9734\n",
      "Epoch 131/180\n",
      "3155/3155 [==============================] - 0s 94us/sample - loss: 0.5104 - wine_quality_loss: 0.4153 - wine_type_loss: 0.0948 - wine_quality_root_mean_squared_error: 0.6447 - wine_type_accuracy: 0.9715 - val_loss: 0.4867 - val_wine_quality_loss: 0.3857 - val_wine_type_loss: 0.0992 - val_wine_quality_root_mean_squared_error: 0.6221 - val_wine_type_accuracy: 0.9683\n",
      "Epoch 132/180\n",
      "3155/3155 [==============================] - 0s 94us/sample - loss: 0.5045 - wine_quality_loss: 0.4108 - wine_type_loss: 0.0940 - wine_quality_root_mean_squared_error: 0.6404 - wine_type_accuracy: 0.9696 - val_loss: 0.7148 - val_wine_quality_loss: 0.6160 - val_wine_type_loss: 0.0995 - val_wine_quality_root_mean_squared_error: 0.7841 - val_wine_type_accuracy: 0.9683\n",
      "Epoch 133/180\n",
      "3155/3155 [==============================] - 0s 90us/sample - loss: 0.5072 - wine_quality_loss: 0.4135 - wine_type_loss: 0.0948 - wine_quality_root_mean_squared_error: 0.6423 - wine_type_accuracy: 0.9702 - val_loss: 0.5074 - val_wine_quality_loss: 0.4078 - val_wine_type_loss: 0.0991 - val_wine_quality_root_mean_squared_error: 0.6385 - val_wine_type_accuracy: 0.9683\n",
      "Epoch 134/180\n",
      "3155/3155 [==============================] - 0s 91us/sample - loss: 0.5012 - wine_quality_loss: 0.4078 - wine_type_loss: 0.0936 - wine_quality_root_mean_squared_error: 0.6383 - wine_type_accuracy: 0.9705 - val_loss: 0.5510 - val_wine_quality_loss: 0.4521 - val_wine_type_loss: 0.0967 - val_wine_quality_root_mean_squared_error: 0.6736 - val_wine_type_accuracy: 0.9721\n",
      "Epoch 135/180\n",
      "3155/3155 [==============================] - 0s 75us/sample - loss: 0.4919 - wine_quality_loss: 0.3985 - wine_type_loss: 0.0936 - wine_quality_root_mean_squared_error: 0.6311 - wine_type_accuracy: 0.9708 - val_loss: 0.5406 - val_wine_quality_loss: 0.4428 - val_wine_type_loss: 0.0958 - val_wine_quality_root_mean_squared_error: 0.6666 - val_wine_type_accuracy: 0.9734\n",
      "Epoch 136/180\n",
      "3155/3155 [==============================] - 0s 91us/sample - loss: 0.5036 - wine_quality_loss: 0.4100 - wine_type_loss: 0.0925 - wine_quality_root_mean_squared_error: 0.6411 - wine_type_accuracy: 0.9724 - val_loss: 0.4460 - val_wine_quality_loss: 0.3481 - val_wine_type_loss: 0.0965 - val_wine_quality_root_mean_squared_error: 0.5907 - val_wine_type_accuracy: 0.9696\n",
      "Epoch 137/180\n",
      "3155/3155 [==============================] - 0s 93us/sample - loss: 0.4966 - wine_quality_loss: 0.4039 - wine_type_loss: 0.0934 - wine_quality_root_mean_squared_error: 0.6357 - wine_type_accuracy: 0.9699 - val_loss: 0.4442 - val_wine_quality_loss: 0.3466 - val_wine_type_loss: 0.0958 - val_wine_quality_root_mean_squared_error: 0.5897 - val_wine_type_accuracy: 0.9721\n",
      "Epoch 138/180\n",
      "3155/3155 [==============================] - 0s 93us/sample - loss: 0.4952 - wine_quality_loss: 0.4037 - wine_type_loss: 0.0916 - wine_quality_root_mean_squared_error: 0.6351 - wine_type_accuracy: 0.9712 - val_loss: 0.4779 - val_wine_quality_loss: 0.3768 - val_wine_type_loss: 0.0992 - val_wine_quality_root_mean_squared_error: 0.6149 - val_wine_type_accuracy: 0.9670\n",
      "Epoch 139/180\n",
      "3155/3155 [==============================] - 0s 92us/sample - loss: 0.4960 - wine_quality_loss: 0.4060 - wine_type_loss: 0.0908 - wine_quality_root_mean_squared_error: 0.6364 - wine_type_accuracy: 0.9727 - val_loss: 0.6120 - val_wine_quality_loss: 0.5121 - val_wine_type_loss: 0.1005 - val_wine_quality_root_mean_squared_error: 0.7148 - val_wine_type_accuracy: 0.9658\n",
      "Epoch 140/180\n",
      "3155/3155 [==============================] - 0s 92us/sample - loss: 0.5156 - wine_quality_loss: 0.4244 - wine_type_loss: 0.0905 - wine_quality_root_mean_squared_error: 0.6518 - wine_type_accuracy: 0.9724 - val_loss: 0.4675 - val_wine_quality_loss: 0.3707 - val_wine_type_loss: 0.0949 - val_wine_quality_root_mean_squared_error: 0.6100 - val_wine_type_accuracy: 0.9696\n",
      "Epoch 141/180\n",
      "3155/3155 [==============================] - 0s 77us/sample - loss: 0.4922 - wine_quality_loss: 0.4030 - wine_type_loss: 0.0913 - wine_quality_root_mean_squared_error: 0.6332 - wine_type_accuracy: 0.9718 - val_loss: 0.8163 - val_wine_quality_loss: 0.7205 - val_wine_type_loss: 0.0931 - val_wine_quality_root_mean_squared_error: 0.8501 - val_wine_type_accuracy: 0.9759\n",
      "Epoch 142/180\n",
      "3155/3155 [==============================] - 0s 80us/sample - loss: 0.4927 - wine_quality_loss: 0.4028 - wine_type_loss: 0.0899 - wine_quality_root_mean_squared_error: 0.6345 - wine_type_accuracy: 0.9734 - val_loss: 0.5896 - val_wine_quality_loss: 0.4939 - val_wine_type_loss: 0.0933 - val_wine_quality_root_mean_squared_error: 0.7041 - val_wine_type_accuracy: 0.9734\n",
      "Epoch 143/180\n",
      "3155/3155 [==============================] - 0s 91us/sample - loss: 0.4881 - wine_quality_loss: 0.3984 - wine_type_loss: 0.0900 - wine_quality_root_mean_squared_error: 0.6307 - wine_type_accuracy: 0.9712 - val_loss: 0.5285 - val_wine_quality_loss: 0.4327 - val_wine_type_loss: 0.0933 - val_wine_quality_root_mean_squared_error: 0.6592 - val_wine_type_accuracy: 0.9721\n",
      "Epoch 144/180\n",
      "3155/3155 [==============================] - 0s 92us/sample - loss: 0.4896 - wine_quality_loss: 0.4002 - wine_type_loss: 0.0888 - wine_quality_root_mean_squared_error: 0.6329 - wine_type_accuracy: 0.9705 - val_loss: 0.4483 - val_wine_quality_loss: 0.3555 - val_wine_type_loss: 0.0918 - val_wine_quality_root_mean_squared_error: 0.5966 - val_wine_type_accuracy: 0.9734\n",
      "Epoch 145/180\n",
      "3155/3155 [==============================] - 0s 93us/sample - loss: 0.4898 - wine_quality_loss: 0.4023 - wine_type_loss: 0.0885 - wine_quality_root_mean_squared_error: 0.6333 - wine_type_accuracy: 0.9721 - val_loss: 0.6485 - val_wine_quality_loss: 0.5529 - val_wine_type_loss: 0.0965 - val_wine_quality_root_mean_squared_error: 0.7425 - val_wine_type_accuracy: 0.9708\n",
      "Epoch 146/180\n",
      "3155/3155 [==============================] - 0s 92us/sample - loss: 0.4911 - wine_quality_loss: 0.4013 - wine_type_loss: 0.0886 - wine_quality_root_mean_squared_error: 0.6343 - wine_type_accuracy: 0.9734 - val_loss: 0.4600 - val_wine_quality_loss: 0.3654 - val_wine_type_loss: 0.0927 - val_wine_quality_root_mean_squared_error: 0.6055 - val_wine_type_accuracy: 0.9721\n",
      "Epoch 147/180\n",
      "3155/3155 [==============================] - 0s 92us/sample - loss: 0.4944 - wine_quality_loss: 0.4075 - wine_type_loss: 0.0871 - wine_quality_root_mean_squared_error: 0.6379 - wine_type_accuracy: 0.9724 - val_loss: 0.6654 - val_wine_quality_loss: 0.5727 - val_wine_type_loss: 0.0902 - val_wine_quality_root_mean_squared_error: 0.7580 - val_wine_type_accuracy: 0.9772\n",
      "Epoch 148/180\n",
      "3155/3155 [==============================] - 0s 77us/sample - loss: 0.4834 - wine_quality_loss: 0.3961 - wine_type_loss: 0.0875 - wine_quality_root_mean_squared_error: 0.6292 - wine_type_accuracy: 0.9734 - val_loss: 0.4409 - val_wine_quality_loss: 0.3445 - val_wine_type_loss: 0.0949 - val_wine_quality_root_mean_squared_error: 0.5877 - val_wine_type_accuracy: 0.9708\n",
      "Epoch 149/180\n",
      "3155/3155 [==============================] - 0s 79us/sample - loss: 0.4962 - wine_quality_loss: 0.4097 - wine_type_loss: 0.0881 - wine_quality_root_mean_squared_error: 0.6395 - wine_type_accuracy: 0.9743 - val_loss: 0.5321 - val_wine_quality_loss: 0.4408 - val_wine_type_loss: 0.0909 - val_wine_quality_root_mean_squared_error: 0.6638 - val_wine_type_accuracy: 0.9734\n",
      "Epoch 150/180\n",
      "3155/3155 [==============================] - 0s 93us/sample - loss: 0.4969 - wine_quality_loss: 0.4111 - wine_type_loss: 0.0862 - wine_quality_root_mean_squared_error: 0.6407 - wine_type_accuracy: 0.9734 - val_loss: 0.8985 - val_wine_quality_loss: 0.8065 - val_wine_type_loss: 0.0892 - val_wine_quality_root_mean_squared_error: 0.8994 - val_wine_type_accuracy: 0.9797\n",
      "Epoch 151/180\n",
      "3155/3155 [==============================] - 0s 92us/sample - loss: 0.4848 - wine_quality_loss: 0.3995 - wine_type_loss: 0.0863 - wine_quality_root_mean_squared_error: 0.6311 - wine_type_accuracy: 0.9712 - val_loss: 0.6077 - val_wine_quality_loss: 0.5168 - val_wine_type_loss: 0.0915 - val_wine_quality_root_mean_squared_error: 0.7180 - val_wine_type_accuracy: 0.9721\n",
      "Epoch 152/180\n",
      "3155/3155 [==============================] - 0s 90us/sample - loss: 0.4943 - wine_quality_loss: 0.4086 - wine_type_loss: 0.0853 - wine_quality_root_mean_squared_error: 0.6394 - wine_type_accuracy: 0.9750 - val_loss: 0.4931 - val_wine_quality_loss: 0.4028 - val_wine_type_loss: 0.0896 - val_wine_quality_root_mean_squared_error: 0.6347 - val_wine_type_accuracy: 0.9747\n",
      "Epoch 153/180\n",
      "3155/3155 [==============================] - 0s 90us/sample - loss: 0.4939 - wine_quality_loss: 0.4073 - wine_type_loss: 0.0861 - wine_quality_root_mean_squared_error: 0.6386 - wine_type_accuracy: 0.9740 - val_loss: 0.4371 - val_wine_quality_loss: 0.3463 - val_wine_type_loss: 0.0895 - val_wine_quality_root_mean_squared_error: 0.5891 - val_wine_type_accuracy: 0.9747\n",
      "Epoch 154/180\n",
      "3155/3155 [==============================] - 0s 76us/sample - loss: 0.4793 - wine_quality_loss: 0.3939 - wine_type_loss: 0.0846 - wine_quality_root_mean_squared_error: 0.6280 - wine_type_accuracy: 0.9746 - val_loss: 0.4354 - val_wine_quality_loss: 0.3451 - val_wine_type_loss: 0.0887 - val_wine_quality_root_mean_squared_error: 0.5883 - val_wine_type_accuracy: 0.9772\n",
      "Epoch 155/180\n",
      "3155/3155 [==============================] - 0s 93us/sample - loss: 0.4966 - wine_quality_loss: 0.4125 - wine_type_loss: 0.0847 - wine_quality_root_mean_squared_error: 0.6416 - wine_type_accuracy: 0.9724 - val_loss: 0.4357 - val_wine_quality_loss: 0.3439 - val_wine_type_loss: 0.0902 - val_wine_quality_root_mean_squared_error: 0.5873 - val_wine_type_accuracy: 0.9734\n",
      "Epoch 156/180\n",
      "3155/3155 [==============================] - 0s 93us/sample - loss: 0.4970 - wine_quality_loss: 0.4128 - wine_type_loss: 0.0837 - wine_quality_root_mean_squared_error: 0.6427 - wine_type_accuracy: 0.9750 - val_loss: 0.4603 - val_wine_quality_loss: 0.3706 - val_wine_type_loss: 0.0890 - val_wine_quality_root_mean_squared_error: 0.6088 - val_wine_type_accuracy: 0.9747\n",
      "Epoch 157/180\n",
      "3155/3155 [==============================] - 0s 91us/sample - loss: 0.4818 - wine_quality_loss: 0.3967 - wine_type_loss: 0.0846 - wine_quality_root_mean_squared_error: 0.6303 - wine_type_accuracy: 0.9750 - val_loss: 0.4794 - val_wine_quality_loss: 0.3876 - val_wine_type_loss: 0.0899 - val_wine_quality_root_mean_squared_error: 0.6237 - val_wine_type_accuracy: 0.9734\n",
      "Epoch 158/180\n",
      "3155/3155 [==============================] - 0s 93us/sample - loss: 0.4919 - wine_quality_loss: 0.4090 - wine_type_loss: 0.0826 - wine_quality_root_mean_squared_error: 0.6395 - wine_type_accuracy: 0.9746 - val_loss: 0.4573 - val_wine_quality_loss: 0.3700 - val_wine_type_loss: 0.0865 - val_wine_quality_root_mean_squared_error: 0.6084 - val_wine_type_accuracy: 0.9772\n",
      "Epoch 159/180\n",
      "3155/3155 [==============================] - 0s 93us/sample - loss: 0.4754 - wine_quality_loss: 0.3936 - wine_type_loss: 0.0836 - wine_quality_root_mean_squared_error: 0.6260 - wine_type_accuracy: 0.9740 - val_loss: 0.5010 - val_wine_quality_loss: 0.4119 - val_wine_type_loss: 0.0887 - val_wine_quality_root_mean_squared_error: 0.6416 - val_wine_type_accuracy: 0.9747\n",
      "Epoch 160/180\n",
      "3155/3155 [==============================] - 0s 76us/sample - loss: 0.4851 - wine_quality_loss: 0.4013 - wine_type_loss: 0.0837 - wine_quality_root_mean_squared_error: 0.6340 - wine_type_accuracy: 0.9740 - val_loss: 0.4489 - val_wine_quality_loss: 0.3607 - val_wine_type_loss: 0.0864 - val_wine_quality_root_mean_squared_error: 0.6016 - val_wine_type_accuracy: 0.9772\n",
      "Epoch 161/180\n",
      "3155/3155 [==============================] - 0s 92us/sample - loss: 0.4789 - wine_quality_loss: 0.3970 - wine_type_loss: 0.0825 - wine_quality_root_mean_squared_error: 0.6294 - wine_type_accuracy: 0.9737 - val_loss: 0.5368 - val_wine_quality_loss: 0.4486 - val_wine_type_loss: 0.0881 - val_wine_quality_root_mean_squared_error: 0.6694 - val_wine_type_accuracy: 0.9759\n",
      "Epoch 162/180\n",
      "3155/3155 [==============================] - 0s 92us/sample - loss: 0.4767 - wine_quality_loss: 0.3946 - wine_type_loss: 0.0824 - wine_quality_root_mean_squared_error: 0.6279 - wine_type_accuracy: 0.9743 - val_loss: 0.5250 - val_wine_quality_loss: 0.4386 - val_wine_type_loss: 0.0862 - val_wine_quality_root_mean_squared_error: 0.6619 - val_wine_type_accuracy: 0.9772\n",
      "Epoch 163/180\n",
      "3155/3155 [==============================] - 0s 90us/sample - loss: 0.4882 - wine_quality_loss: 0.4064 - wine_type_loss: 0.0812 - wine_quality_root_mean_squared_error: 0.6377 - wine_type_accuracy: 0.9740 - val_loss: 0.5713 - val_wine_quality_loss: 0.4837 - val_wine_type_loss: 0.0878 - val_wine_quality_root_mean_squared_error: 0.6948 - val_wine_type_accuracy: 0.9785\n",
      "Epoch 164/180\n",
      "3155/3155 [==============================] - 0s 76us/sample - loss: 0.4885 - wine_quality_loss: 0.4074 - wine_type_loss: 0.0811 - wine_quality_root_mean_squared_error: 0.6383 - wine_type_accuracy: 0.9765 - val_loss: 0.7010 - val_wine_quality_loss: 0.6156 - val_wine_type_loss: 0.0862 - val_wine_quality_root_mean_squared_error: 0.7837 - val_wine_type_accuracy: 0.9772\n",
      "Epoch 165/180\n",
      "3155/3155 [==============================] - 0s 92us/sample - loss: 0.4765 - wine_quality_loss: 0.3945 - wine_type_loss: 0.0810 - wine_quality_root_mean_squared_error: 0.6289 - wine_type_accuracy: 0.9753 - val_loss: 0.6148 - val_wine_quality_loss: 0.5311 - val_wine_type_loss: 0.0844 - val_wine_quality_root_mean_squared_error: 0.7279 - val_wine_type_accuracy: 0.9785\n",
      "Epoch 166/180\n",
      "3155/3155 [==============================] - 0s 92us/sample - loss: 0.4834 - wine_quality_loss: 0.4033 - wine_type_loss: 0.0803 - wine_quality_root_mean_squared_error: 0.6347 - wine_type_accuracy: 0.9753 - val_loss: 0.5704 - val_wine_quality_loss: 0.4819 - val_wine_type_loss: 0.0861 - val_wine_quality_root_mean_squared_error: 0.6955 - val_wine_type_accuracy: 0.9785\n",
      "Epoch 167/180\n",
      "3155/3155 [==============================] - 0s 92us/sample - loss: 0.4718 - wine_quality_loss: 0.3911 - wine_type_loss: 0.0812 - wine_quality_root_mean_squared_error: 0.6255 - wine_type_accuracy: 0.9759 - val_loss: 0.7341 - val_wine_quality_loss: 0.6462 - val_wine_type_loss: 0.0853 - val_wine_quality_root_mean_squared_error: 0.8052 - val_wine_type_accuracy: 0.9797\n",
      "Epoch 168/180\n",
      "3155/3155 [==============================] - 0s 93us/sample - loss: 0.4845 - wine_quality_loss: 0.4049 - wine_type_loss: 0.0802 - wine_quality_root_mean_squared_error: 0.6358 - wine_type_accuracy: 0.9759 - val_loss: 0.4568 - val_wine_quality_loss: 0.3676 - val_wine_type_loss: 0.0874 - val_wine_quality_root_mean_squared_error: 0.6072 - val_wine_type_accuracy: 0.9759\n",
      "Epoch 169/180\n",
      "3155/3155 [==============================] - 0s 93us/sample - loss: 0.4762 - wine_quality_loss: 0.3959 - wine_type_loss: 0.0819 - wine_quality_root_mean_squared_error: 0.6296 - wine_type_accuracy: 0.9746 - val_loss: 0.5001 - val_wine_quality_loss: 0.4142 - val_wine_type_loss: 0.0857 - val_wine_quality_root_mean_squared_error: 0.6434 - val_wine_type_accuracy: 0.9785\n",
      "Epoch 170/180\n",
      "3155/3155 [==============================] - 0s 92us/sample - loss: 0.4877 - wine_quality_loss: 0.4097 - wine_type_loss: 0.0788 - wine_quality_root_mean_squared_error: 0.6393 - wine_type_accuracy: 0.9769 - val_loss: 0.7697 - val_wine_quality_loss: 0.6851 - val_wine_type_loss: 0.0858 - val_wine_quality_root_mean_squared_error: 0.8266 - val_wine_type_accuracy: 0.9785\n",
      "Epoch 171/180\n",
      "3155/3155 [==============================] - 0s 77us/sample - loss: 0.4840 - wine_quality_loss: 0.4055 - wine_type_loss: 0.0798 - wine_quality_root_mean_squared_error: 0.6360 - wine_type_accuracy: 0.9753 - val_loss: 0.6010 - val_wine_quality_loss: 0.5137 - val_wine_type_loss: 0.0849 - val_wine_quality_root_mean_squared_error: 0.7180 - val_wine_type_accuracy: 0.9785\n",
      "Epoch 172/180\n",
      "3155/3155 [==============================] - 0s 94us/sample - loss: 0.4734 - wine_quality_loss: 0.3949 - wine_type_loss: 0.0784 - wine_quality_root_mean_squared_error: 0.6285 - wine_type_accuracy: 0.9759 - val_loss: 0.4667 - val_wine_quality_loss: 0.3822 - val_wine_type_loss: 0.0824 - val_wine_quality_root_mean_squared_error: 0.6194 - val_wine_type_accuracy: 0.9785\n",
      "Epoch 173/180\n",
      "3155/3155 [==============================] - 0s 94us/sample - loss: 0.4701 - wine_quality_loss: 0.3924 - wine_type_loss: 0.0778 - wine_quality_root_mean_squared_error: 0.6263 - wine_type_accuracy: 0.9762 - val_loss: 0.4457 - val_wine_quality_loss: 0.3525 - val_wine_type_loss: 0.0922 - val_wine_quality_root_mean_squared_error: 0.5940 - val_wine_type_accuracy: 0.9721\n",
      "Epoch 174/180\n",
      "3155/3155 [==============================] - 0s 94us/sample - loss: 0.4704 - wine_quality_loss: 0.3918 - wine_type_loss: 0.0785 - wine_quality_root_mean_squared_error: 0.6261 - wine_type_accuracy: 0.9759 - val_loss: 0.4336 - val_wine_quality_loss: 0.3444 - val_wine_type_loss: 0.0878 - val_wine_quality_root_mean_squared_error: 0.5876 - val_wine_type_accuracy: 0.9747\n",
      "Epoch 175/180\n",
      "3155/3155 [==============================] - 0s 91us/sample - loss: 0.4787 - wine_quality_loss: 0.4010 - wine_type_loss: 0.0781 - wine_quality_root_mean_squared_error: 0.6332 - wine_type_accuracy: 0.9769 - val_loss: 0.5514 - val_wine_quality_loss: 0.4676 - val_wine_type_loss: 0.0838 - val_wine_quality_root_mean_squared_error: 0.6834 - val_wine_type_accuracy: 0.9797\n",
      "Epoch 176/180\n",
      "3155/3155 [==============================] - 0s 91us/sample - loss: 0.4683 - wine_quality_loss: 0.3909 - wine_type_loss: 0.0774 - wine_quality_root_mean_squared_error: 0.6256 - wine_type_accuracy: 0.9772 - val_loss: 0.5134 - val_wine_quality_loss: 0.4296 - val_wine_type_loss: 0.0816 - val_wine_quality_root_mean_squared_error: 0.6567 - val_wine_type_accuracy: 0.9797\n",
      "Epoch 177/180\n",
      "3155/3155 [==============================] - 0s 90us/sample - loss: 0.4680 - wine_quality_loss: 0.3907 - wine_type_loss: 0.0777 - wine_quality_root_mean_squared_error: 0.6245 - wine_type_accuracy: 0.9762 - val_loss: 0.4247 - val_wine_quality_loss: 0.3425 - val_wine_type_loss: 0.0808 - val_wine_quality_root_mean_squared_error: 0.5860 - val_wine_type_accuracy: 0.9797\n",
      "Epoch 178/180\n",
      "3155/3155 [==============================] - 0s 77us/sample - loss: 0.4592 - wine_quality_loss: 0.3814 - wine_type_loss: 0.0789 - wine_quality_root_mean_squared_error: 0.6178 - wine_type_accuracy: 0.9756 - val_loss: 0.4298 - val_wine_quality_loss: 0.3468 - val_wine_type_loss: 0.0817 - val_wine_quality_root_mean_squared_error: 0.5896 - val_wine_type_accuracy: 0.9797\n",
      "Epoch 179/180\n",
      "3155/3155 [==============================] - 0s 92us/sample - loss: 0.4724 - wine_quality_loss: 0.3969 - wine_type_loss: 0.0751 - wine_quality_root_mean_squared_error: 0.6305 - wine_type_accuracy: 0.9778 - val_loss: 0.4365 - val_wine_quality_loss: 0.3483 - val_wine_type_loss: 0.0865 - val_wine_quality_root_mean_squared_error: 0.5911 - val_wine_type_accuracy: 0.9772\n",
      "Epoch 180/180\n",
      "3155/3155 [==============================] - 0s 91us/sample - loss: 0.4733 - wine_quality_loss: 0.3969 - wine_type_loss: 0.0761 - wine_quality_root_mean_squared_error: 0.6301 - wine_type_accuracy: 0.9769 - val_loss: 0.7620 - val_wine_quality_loss: 0.6835 - val_wine_type_loss: 0.0804 - val_wine_quality_root_mean_squared_error: 0.8252 - val_wine_type_accuracy: 0.9797\n"
     ]
    }
   ],
   "source": [
    "## Please uncomment all lines in this cell and replace those marked with `# YOUR CODE HERE`.\n",
    "## You can select all lines in this code cell with Ctrl+A (Windows/Linux) or Cmd+A (Mac), then press Ctrl+/ (Windows/Linux) or Cmd+/ (Mac) to uncomment.\n",
    "\n",
    "\n",
    "\n",
    "history = model.fit(train, train_Y,\n",
    "                    epochs = 180, validation_data=(val, val_Y))"
   ]
  },
  {
   "cell_type": "code",
   "execution_count": 40,
   "metadata": {
    "deletable": false,
    "editable": false,
    "nbgrader": {
     "cell_type": "code",
     "checksum": "fadad8896eda9c8c2115970724b15508",
     "grade": true,
     "grade_id": "cell-eb4d5b41bef8f0ab",
     "locked": true,
     "points": 1,
     "schema_version": 3,
     "solution": false,
     "task": false
    }
   },
   "outputs": [
    {
     "name": "stdout",
     "output_type": "stream",
     "text": [
      "\u001b[92m All public tests passed\n"
     ]
    }
   ],
   "source": [
    "utils.test_history(history)"
   ]
  },
  {
   "cell_type": "code",
   "execution_count": 41,
   "metadata": {
    "colab": {},
    "colab_type": "code",
    "id": "CubF2J2gSf6q"
   },
   "outputs": [
    {
     "name": "stdout",
     "output_type": "stream",
     "text": [
      "789/789 [==============================] - 0s 62us/sample - loss: 29.2375 - wine_quality_loss: 28.8673 - wine_type_loss: 0.3579 - wine_quality_root_mean_squared_error: 5.3742 - wine_type_accuracy: 0.8859\n",
      "\n",
      "loss: 29.23747959547925\n",
      "wine_quality_loss: 28.8673095703125\n",
      "wine_type_loss: 0.3578619062900543\n",
      "wine_quality_rmse: 5.374159336090088\n",
      "wine_type_accuracy: 0.8859315514564514\n"
     ]
    }
   ],
   "source": [
    "# Gather the training metrics\n",
    "loss, wine_quality_loss, wine_type_loss, wine_quality_rmse, wine_type_accuracy = model.evaluate(x=norm_val_X, y=val_Y)\n",
    "\n",
    "print()\n",
    "print(f'loss: {loss}')\n",
    "print(f'wine_quality_loss: {wine_quality_loss}')\n",
    "print(f'wine_type_loss: {wine_type_loss}')\n",
    "print(f'wine_quality_rmse: {wine_quality_rmse}')\n",
    "print(f'wine_type_accuracy: {wine_type_accuracy}')\n",
    "\n",
    "# EXPECTED VALUES\n",
    "# ~ 0.30 - 0.38\n",
    "# ~ 0.30 - 0.38\n",
    "# ~ 0.018 - 0.030\n",
    "# ~ 0.50 - 0.62\n",
    "# ~ 0.97 - 1.0\n",
    "\n",
    "# Example:\n",
    "#0.3657050132751465\n",
    "#0.3463745415210724\n",
    "#0.019330406561493874\n",
    "#0.5885359048843384\n",
    "#0.9974651336669922"
   ]
  },
  {
   "cell_type": "markdown",
   "metadata": {
    "colab_type": "text",
    "id": "gPtTGAP4usnm"
   },
   "source": [
    "## Analyze the Model Performance\n",
    "\n",
    "Note that the model has two outputs. The output at index 0 is quality and index 1 is wine type\n",
    "\n",
    "So, round the quality predictions to the nearest integer."
   ]
  },
  {
   "cell_type": "code",
   "execution_count": 42,
   "metadata": {
    "colab": {},
    "colab_type": "code",
    "id": "tBq9PEeAaW-Y"
   },
   "outputs": [],
   "source": [
    "predictions = model.predict(norm_test_X)\n",
    "quality_pred = predictions[0]\n",
    "type_pred = predictions[1]"
   ]
  },
  {
   "cell_type": "code",
   "execution_count": 43,
   "metadata": {
    "colab": {},
    "colab_type": "code",
    "id": "YLhgTR4xTIxj"
   },
   "outputs": [
    {
     "name": "stdout",
     "output_type": "stream",
     "text": [
      "[0.5407325]\n"
     ]
    }
   ],
   "source": [
    "print(quality_pred[0])\n",
    "\n",
    "# EXPECTED OUTPUT\n",
    "# 5.6 - 6.0"
   ]
  },
  {
   "cell_type": "code",
   "execution_count": 44,
   "metadata": {
    "colab": {},
    "colab_type": "code",
    "id": "MPi-eYfGTUXi"
   },
   "outputs": [
    {
     "name": "stdout",
     "output_type": "stream",
     "text": [
      "[0.14257123]\n",
      "[0.99999845]\n"
     ]
    }
   ],
   "source": [
    "print(type_pred[0])\n",
    "print(type_pred[944])\n",
    "\n",
    "# EXPECTED OUTPUT\n",
    "# A number close to zero\n",
    "# A number close to or equal to 1"
   ]
  },
  {
   "cell_type": "markdown",
   "metadata": {
    "colab_type": "text",
    "id": "Kohk-9C6vt_s"
   },
   "source": [
    "### Plot Utilities\n",
    "\n",
    "We define a few utilities to visualize the model performance."
   ]
  },
  {
   "cell_type": "code",
   "execution_count": 45,
   "metadata": {
    "colab": {},
    "colab_type": "code",
    "id": "62gEOFUhn6aQ"
   },
   "outputs": [],
   "source": [
    "def plot_metrics(metric_name, title, ylim=5):\n",
    "    plt.title(title)\n",
    "    plt.ylim(0,ylim)\n",
    "    plt.plot(history.history[metric_name],color='blue',label=metric_name)\n",
    "    plt.plot(history.history['val_' + metric_name],color='green',label='val_' + metric_name)\n"
   ]
  },
  {
   "cell_type": "code",
   "execution_count": 46,
   "metadata": {
    "colab": {},
    "colab_type": "code",
    "id": "6rfgSx7uz5dj"
   },
   "outputs": [],
   "source": [
    "def plot_confusion_matrix(y_true, y_pred, title='', labels=[0,1]):\n",
    "    cm = confusion_matrix(y_true, y_pred)\n",
    "    fig = plt.figure()\n",
    "    ax = fig.add_subplot(111)\n",
    "    cax = ax.matshow(cm)\n",
    "    plt.title('Confusion matrix of the classifier')\n",
    "    fig.colorbar(cax)\n",
    "    ax.set_xticklabels([''] + labels)\n",
    "    ax.set_yticklabels([''] + labels)\n",
    "    plt.xlabel('Predicted')\n",
    "    plt.ylabel('True')\n",
    "    fmt = 'd'\n",
    "    thresh = cm.max() / 2.\n",
    "    for i, j in itertools.product(range(cm.shape[0]), range(cm.shape[1])):\n",
    "          plt.text(j, i, format(cm[i, j], fmt),\n",
    "                  horizontalalignment=\"center\",\n",
    "                  color=\"black\" if cm[i, j] > thresh else \"white\")\n",
    "    plt.show()"
   ]
  },
  {
   "cell_type": "code",
   "execution_count": 47,
   "metadata": {
    "colab": {},
    "colab_type": "code",
    "id": "dfVLIqi017Vf"
   },
   "outputs": [],
   "source": [
    "def plot_diff(y_true, y_pred, title = '' ):\n",
    "    plt.scatter(y_true, y_pred)\n",
    "    plt.title(title)\n",
    "    plt.xlabel('True Values')\n",
    "    plt.ylabel('Predictions')\n",
    "    plt.axis('equal')\n",
    "    plt.axis('square')\n",
    "    plt.plot([-100, 100], [-100, 100])\n",
    "    return plt"
   ]
  },
  {
   "cell_type": "markdown",
   "metadata": {
    "colab_type": "text",
    "id": "8sd1jdFbwE0I"
   },
   "source": [
    "### Plots for Metrics"
   ]
  },
  {
   "cell_type": "code",
   "execution_count": 48,
   "metadata": {
    "colab": {},
    "colab_type": "code",
    "id": "f3MwZ5J1pOfj"
   },
   "outputs": [
    {
     "data": {
      "image/png": "[encoded data removed]",
      "text/plain": [
       "<Figure size 432x288 with 1 Axes>"
      ]
     },
     "metadata": {
      "needs_background": "light"
     },
     "output_type": "display_data"
    }
   ],
   "source": [
    "plot_metrics('wine_quality_root_mean_squared_error', 'RMSE', ylim=2)"
   ]
  },
  {
   "cell_type": "code",
   "execution_count": 49,
   "metadata": {
    "colab": {},
    "colab_type": "code",
    "id": "QIAxEezCppnd"
   },
   "outputs": [
    {
     "data": {
      "image/png": "[encoded data removed]",
      "text/plain": [
       "<Figure size 432x288 with 1 Axes>"
      ]
     },
     "metadata": {
      "needs_background": "light"
     },
     "output_type": "display_data"
    }
   ],
   "source": [
    "plot_metrics('wine_type_loss', 'Wine Type Loss', ylim=0.2)"
   ]
  },
  {
   "cell_type": "markdown",
   "metadata": {
    "colab_type": "text",
    "id": "uYV9AOAMwI9p"
   },
   "source": [
    "### Plots for Confusion Matrix\n",
    "\n",
    "Plot the confusion matrices for wine type. You can see that the model performs well for prediction of wine type from the confusion matrix and the loss metrics."
   ]
  },
  {
   "cell_type": "code",
   "execution_count": 50,
   "metadata": {
    "colab": {},
    "colab_type": "code",
    "id": "C3hvTYxIaf3n"
   },
   "outputs": [
    {
     "data": {
      "image/png": "[encoded data removed]",
      "text/plain": [
       "<Figure size 432x288 with 2 Axes>"
      ]
     },
     "metadata": {
      "needs_background": "light"
     },
     "output_type": "display_data"
    }
   ],
   "source": [
    "plot_confusion_matrix(test_Y[1], np.round(type_pred), title='Wine Type', labels = [0, 1])"
   ]
  },
  {
   "cell_type": "code",
   "execution_count": 51,
   "metadata": {
    "colab": {},
    "colab_type": "code",
    "id": "GW91ym8P2I5y"
   },
   "outputs": [
    {
     "data": {
      "image/png": "[encoded data removed]",
      "text/plain": [
       "<Figure size 432x288 with 1 Axes>"
      ]
     },
     "metadata": {
      "needs_background": "light"
     },
     "output_type": "display_data"
    }
   ],
   "source": [
    "scatter_plot = plot_diff(test_Y[0], quality_pred, title='Type')"
   ]
  },
  {
   "cell_type": "code",
   "execution_count": null,
   "metadata": {},
   "outputs": [],
   "source": []
  }
 ],
 "metadata": {
  "colab": {
   "include_colab_link": true,
   "name": "exercise-answer.ipynb",
   "provenance": []
  },
  "kernelspec": {
   "display_name": "Python 3",
   "language": "python",
   "name": "python3"
  },
  "language_info": {
   "codemirror_mode": {
    "name": "ipython",
    "version": 3
   },
   "file_extension": ".py",
   "mimetype": "text/x-python",
   "name": "python",
   "nbconvert_exporter": "python",
   "pygments_lexer": "ipython3",
   "version": "3.7.6"
  }
 },
 "nbformat": 4,
 "nbformat_minor": 4
}
